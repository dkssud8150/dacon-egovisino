{
  "nbformat": 4,
  "nbformat_minor": 0,
  "metadata": {
    "accelerator": "GPU",
    "colab": {
      "name": "egovision.ipynb",
      "provenance": [],
      "collapsed_sections": [
        "k22hWTPctlI0",
        "oMwiA8Nftola",
        "yjtclUgktYNJ",
        "Regg_PLHu5q9",
        "X2oxYBboh_dK",
        "h8FnSiUGw8Ui"
      ],
      "mount_file_id": "1hHUwwCgf4AO1qI1ntupfYepYq4EetJp2",
      "authorship_tag": "ABX9TyNmyqyDmydCzTrlKoJ9x6qg",
      "include_colab_link": true
    },
    "kernelspec": {
      "display_name": "Python 3",
      "name": "python3"
    },
    "language_info": {
      "name": "python"
    }
  },
  "cells": [
    {
      "cell_type": "markdown",
      "metadata": {
        "id": "view-in-github",
        "colab_type": "text"
      },
      "source": [
        "<a href=\"https://colab.research.google.com/github/dkssud8150/dacon-egovision/blob/main/egovision.ipynb\" target=\"_parent\"><img src=\"https://colab.research.google.com/assets/colab-badge.svg\" alt=\"Open In Colab\"/></a>"
      ]
    },
    {
      "cell_type": "code",
      "metadata": {
        "colab": {
          "base_uri": "https://localhost:8080/"
        },
        "id": "rDaqpvGGoWeo",
        "outputId": "1206e1f9-edc8-40cf-f0fb-491bec7ff95e"
      },
      "source": [
        "# 데이터 보기\n",
        "import pandas as pd\n",
        "import numpy as np\n",
        "from glob import glob\n",
        "\n",
        "# torch\n",
        "import torch\n",
        "import torch.nn as nn\n",
        "import torch.nn.functional as F\n",
        "from torchvision import transforms, datasets\n",
        "from torch.utils.data import Dataset, ConcatDataset, Sampler, RandomSampler, BatchSampler\n",
        "\n",
        "# 이미지데이터 로딩\n",
        "from PIL import Image\n",
        "import cv2\n",
        "from tqdm import tqdm\n",
        "\n",
        "# 파일경로 설정\n",
        "import os\n",
        "import shutil\n",
        "import json\n",
        "import PIL\n",
        "\n",
        "# GPU 환경 설정\n",
        "import os\n",
        "os.environ['CUDA_LAUNCH_BLOCKING'] = \"1\"\n",
        "os.environ[\"CUDA_VISIBLE_DEVICES\"] = \"0\"\n",
        "DEVICE = torch.device(\"cuda:0\" if torch.cuda.is_available() else \"cpu\")\n",
        "print(DEVICE)\n",
        "\n",
        "# warning\n",
        "import warnings\n",
        "warnings.filterwarnings(\"ignore\")\n",
        "warnings.simplefilter('ignore')\n",
        "import matplotlib.pyplot as plt"
      ],
      "execution_count": null,
      "outputs": [
        {
          "output_type": "stream",
          "name": "stdout",
          "text": [
            "cuda:0\n"
          ]
        }
      ]
    },
    {
      "cell_type": "markdown",
      "metadata": {
        "id": "p9v3rFretVBN"
      },
      "source": [
        "# Sample data"
      ]
    },
    {
      "cell_type": "code",
      "metadata": {
        "id": "I327D2NjokNw"
      },
      "source": [
        "data_path = '/content/drive/MyDrive/dacon'\n",
        "\n",
        "\n",
        "train_path = data_path + '/train'\n",
        "test_path = data_path + '/test'\n",
        "retrain_path = data_path + '/retrain'\n",
        "\n",
        "hand_gesture = pd.read_csv(data_path + '/hand_gesture_pose.csv')\n",
        "sample_submission = pd.read_csv(data_path + '/sample_submission.csv')"
      ],
      "execution_count": null,
      "outputs": []
    },
    {
      "cell_type": "markdown",
      "metadata": {
        "id": "05sZpkpptfhF"
      },
      "source": [
        "### train 폴더 데이터 확인"
      ]
    },
    {
      "cell_type": "code",
      "metadata": {
        "colab": {
          "base_uri": "https://localhost:8080/"
        },
        "id": "vmulII32oqOv",
        "outputId": "c6677d91-e006-46b4-b987-000bf3da5209"
      },
      "source": [
        "train_folders = sorted(glob(train_path + '/*'), key = lambda x : int(x.split('/')[-1]))\n",
        "test_folders  = sorted(glob(test_path + '/*'), key = lambda x : int(x.split('/')[-1]))\n",
        "train_folders[:5]"
      ],
      "execution_count": null,
      "outputs": [
        {
          "output_type": "execute_result",
          "data": {
            "text/plain": [
              "['/content/drive/MyDrive/dacon/train/0',\n",
              " '/content/drive/MyDrive/dacon/train/1',\n",
              " '/content/drive/MyDrive/dacon/train/2',\n",
              " '/content/drive/MyDrive/dacon/train/3',\n",
              " '/content/drive/MyDrive/dacon/train/4']"
            ]
          },
          "metadata": {},
          "execution_count": 5
        }
      ]
    },
    {
      "cell_type": "markdown",
      "metadata": {
        "id": "k22hWTPctlI0"
      },
      "source": [
        "### 1개를 열어 확인"
      ]
    },
    {
      "cell_type": "code",
      "metadata": {
        "colab": {
          "base_uri": "https://localhost:8080/"
        },
        "id": "GGSUNgh9pfcY",
        "outputId": "6c5c55c9-26f7-4cb1-b5d0-13214b26cf8b"
      },
      "source": [
        "train_folder1 = train_folders[620]\n",
        "train_folder1"
      ],
      "execution_count": null,
      "outputs": [
        {
          "data": {
            "application/vnd.google.colaboratory.intrinsic+json": {
              "type": "string"
            },
            "text/plain": [
              "'/content/drive/MyDrive/dacon/train/620'"
            ]
          },
          "execution_count": 129,
          "metadata": {},
          "output_type": "execute_result"
        }
      ]
    },
    {
      "cell_type": "code",
      "metadata": {
        "colab": {
          "base_uri": "https://localhost:8080/"
        },
        "id": "eyFy-s5bpfWp",
        "outputId": "43130d56-61ff-434a-defe-d343a666c56e"
      },
      "source": [
        "image_paths = sorted(glob(train_folder1 + '/*.png'), key = lambda x : int(x.split('/')[-1].replace('.png','')))\n",
        "image_path = image_paths[0]\n",
        "\n",
        "img = cv2.imread(image_path)\n",
        "img = cv2.cvtColor(img, cv2.COLOR_BGR2RGB)\n",
        "plt.imshow(img)\n",
        "plt.show()"
      ],
      "execution_count": null,
      "outputs": [
        {
          "data": {
            "image/png": "[encoded data removed]",
            "text/plain": [
              "<Figure size 432x288 with 1 Axes>"
            ]
          },
          "metadata": {},
          "output_type": "display_data"
        }
      ]
    },
    {
      "cell_type": "markdown",
      "metadata": {
        "id": "oMwiA8Nftola"
      },
      "source": [
        "### 메타데이터 정보 확인\n",
        "\n",
        "* action(행동 정보) \n",
        "  * 손동작 label\n",
        "  * 손동작 한글 이름\n",
        "* actor(배우 정보)\n",
        "  * 성별\n",
        "  * 나이\n",
        "  * 키\n",
        "* id(파일 경로)\n",
        "* annotations (주석 정보)\n",
        "  * image_id : 이미지 번호\n",
        "  * data : 키포인트 정보"
      ]
    },
    {
      "cell_type": "code",
      "metadata": {
        "colab": {
          "base_uri": "https://localhost:8080/"
        },
        "id": "UD1_p4Pfq7if",
        "outputId": "7f23bd33-b43a-4cd8-f1f1-48119abc6eeb"
      },
      "source": [
        "json_path   = glob(train_folder1 + '/*.json')[0]\n",
        "js = json.load(open(json_path))\n",
        "\n",
        "print(\"json keys                : \",js.keys())\n",
        "print(\"json action info         : \",js.get('action'))\n",
        "print(\"json actor info          : \",js.get('actor'))\n",
        "print(\"json id info             : \",js.get('id'))                             # train/id\n",
        "print(\"json annotations keys    : \",js.get('annotations')[0].keys())\n",
        "print(\"json annotations sample  : \",js.get('annotations')[0].get('image_id')) # train/id/image_id.png \n",
        "print(\"json annotations sample  : \",js.get('annotations')[0].get('data'))     # train/id/image_id.png 의 kep point"
      ],
      "execution_count": null,
      "outputs": [
        {
          "name": "stdout",
          "output_type": "stream",
          "text": [
            "json keys                :  dict_keys(['action', 'actor', 'id', 'annotations'])\n",
            "json action info         :  [186, '큰하트']\n",
            "json actor info          :  None\n",
            "json id info             :  620\n",
            "json annotations keys    :  dict_keys(['image_id', 'data'])\n",
            "json annotations sample  :  0\n",
            "json annotations sample  :  [[778.8010025024414, 483.245530128479, 0.051133594242855906], [832.6738357543945, 483.5382342338562, -17.841750383377075], [885.1345825195312, 457.77312755584717, -38.91024827957153], [931.4473342895508, 445.48444747924805, -67.60226726531982], [970.7613372802734, 440.5976343154907, -106.07502222061157], [874.0076637268066, 362.117657661438, -42.74148344993591], [918.4812355041504, 309.1277861595154, -96.67551040649414], [948.4206390380859, 314.3676209449768, -135.9917449951172], [965.0771713256836, 335.799458026886, -156.66542530059814], [841.5545654296875, 346.7590606212616, -69.53418016433716], [858.2997894287109, 264.18798565864563, -109.51632499694824], [875.1610565185547, 212.79398560523987, -143.81951808929443], [886.3566970825195, 168.81675481796265, -166.34167671203613], [804.0524482727051, 355.7014060020447, -99.03463125228882], [803.6655807495117, 279.6021366119385, -144.27453517913818], [806.5407943725586, 230.2005136013031, -178.78729820251465], [805.015983581543, 182.97899544239044, -199.9374532699585], [768.3917999267578, 380.9354031085968, -127.63173580169678], [735.7642936706543, 331.5320098400116, -166.9714879989624], [713.9525413513184, 293.6090934276581, -184.5686960220337], [693.7724304199219, 251.74275040626526, -193.14841747283936], [1207.3713684082031, 435.106326341629, -0.06741345394402742], [1138.835220336914, 433.6759901046753, -13.216310441493988], [1092.0603561401367, 426.556077003479, -41.45956993103027], [1051.0811233520508, 425.60123205184937, -76.57512903213501], [1006.8549728393555, 434.58075284957886, -114.01762962341309], [1091.6851043701172, 327.20446944236755, -53.254244327545166], [1039.3347930908203, 287.86975622177124, -114.72005367279053], [1008.1994247436523, 304.1753125190735, -144.26012992858887], [986.4751052856445, 331.88010692596436, -154.040207862854], [1120.4455947875977, 309.37983870506287, -83.62622022628784], [1098.3159255981445, 227.1277642250061, -136.0036325454712], [1072.0841217041016, 180.9022092819214, -182.20069885253906], [1045.7528686523438, 143.33735167980194, -213.1653928756714], [1156.061782836914, 314.7091519832611, -111.67581796646118], [1155.102767944336, 230.6678456068039, -167.4687910079956], [1149.5210266113281, 179.2430591583252, -203.81481170654297], [1141.3453674316406, 139.33246493339539, -219.32766437530518], [1195.4742050170898, 332.67945885658264, -138.20584774017334], [1216.9644927978516, 272.2625184059143, -186.41255378723145], [1235.1569366455078, 230.90105295181274, -203.6962366104126], [1247.512550354004, 192.5164532661438, -209.78383541107178]]\n"
          ]
        }
      ]
    },
    {
      "cell_type": "markdown",
      "metadata": {
        "id": "yjtclUgktYNJ"
      },
      "source": [
        "## answer loading"
      ]
    },
    {
      "cell_type": "code",
      "metadata": {
        "colab": {
          "base_uri": "https://localhost:8080/",
          "height": 419
        },
        "id": "dPg6BqF7tQei",
        "outputId": "3234e753-d78c-480a-b243-846bcef3791e"
      },
      "source": [
        "answers = []\n",
        "for train_folder in train_folders :\n",
        "    json_path = glob(train_folder + '/*.json')[0]\n",
        "    js = json.load(open(json_path))\n",
        "    cat = js.get('action')[0]\n",
        "    cat_name = js.get('action')[1]\n",
        "    answers.append([train_folder.replace(data_path,''),cat, cat_name])\n",
        "\n",
        "answers = pd.DataFrame(answers, columns = ['train_path','answer', 'answer_name'])\n",
        "classes = pd.get_dummies(answers[['answer']], columns = ['answer']).to_numpy()\n",
        "aswname = pd.get_dummies(answers[['answer_name']], columns = ['answer_name']).to_numpy()\n",
        "\n",
        "answers\n",
        "#classes.shape[1]\n",
        "#answers['answer'].unique()"
      ],
      "execution_count": null,
      "outputs": [
        {
          "output_type": "execute_result",
          "data": {
            "text/html": [
              "<div>\n",
              "<style scoped>\n",
              "    .dataframe tbody tr th:only-of-type {\n",
              "        vertical-align: middle;\n",
              "    }\n",
              "\n",
              "    .dataframe tbody tr th {\n",
              "        vertical-align: top;\n",
              "    }\n",
              "\n",
              "    .dataframe thead th {\n",
              "        text-align: right;\n",
              "    }\n",
              "</style>\n",
              "<table border=\"1\" class=\"dataframe\">\n",
              "  <thead>\n",
              "    <tr style=\"text-align: right;\">\n",
              "      <th></th>\n",
              "      <th>train_path</th>\n",
              "      <th>answer</th>\n",
              "      <th>answer_name</th>\n",
              "    </tr>\n",
              "  </thead>\n",
              "  <tbody>\n",
              "    <tr>\n",
              "      <th>0</th>\n",
              "      <td>/train/0</td>\n",
              "      <td>0</td>\n",
              "      <td>숫자 1</td>\n",
              "    </tr>\n",
              "    <tr>\n",
              "      <th>1</th>\n",
              "      <td>/train/1</td>\n",
              "      <td>0</td>\n",
              "      <td>숫자 1</td>\n",
              "    </tr>\n",
              "    <tr>\n",
              "      <th>2</th>\n",
              "      <td>/train/2</td>\n",
              "      <td>10</td>\n",
              "      <td>숫자 1</td>\n",
              "    </tr>\n",
              "    <tr>\n",
              "      <th>3</th>\n",
              "      <td>/train/3</td>\n",
              "      <td>10</td>\n",
              "      <td>숫자 1</td>\n",
              "    </tr>\n",
              "    <tr>\n",
              "      <th>4</th>\n",
              "      <td>/train/4</td>\n",
              "      <td>10</td>\n",
              "      <td>숫자 1</td>\n",
              "    </tr>\n",
              "    <tr>\n",
              "      <th>...</th>\n",
              "      <td>...</td>\n",
              "      <td>...</td>\n",
              "      <td>...</td>\n",
              "    </tr>\n",
              "    <tr>\n",
              "      <th>644</th>\n",
              "      <td>/train/644</td>\n",
              "      <td>194</td>\n",
              "      <td>빅토리</td>\n",
              "    </tr>\n",
              "    <tr>\n",
              "      <th>645</th>\n",
              "      <td>/train/645</td>\n",
              "      <td>195</td>\n",
              "      <td>부정(엄지손 아래로)</td>\n",
              "    </tr>\n",
              "    <tr>\n",
              "      <th>646</th>\n",
              "      <td>/train/646</td>\n",
              "      <td>195</td>\n",
              "      <td>부정(엄지손 아래로)</td>\n",
              "    </tr>\n",
              "    <tr>\n",
              "      <th>647</th>\n",
              "      <td>/train/647</td>\n",
              "      <td>195</td>\n",
              "      <td>부정(엄지손 아래로)</td>\n",
              "    </tr>\n",
              "    <tr>\n",
              "      <th>648</th>\n",
              "      <td>/train/648</td>\n",
              "      <td>195</td>\n",
              "      <td>부정(엄지손 아래로)</td>\n",
              "    </tr>\n",
              "  </tbody>\n",
              "</table>\n",
              "<p>649 rows × 3 columns</p>\n",
              "</div>"
            ],
            "text/plain": [
              "     train_path  answer  answer_name\n",
              "0      /train/0       0         숫자 1\n",
              "1      /train/1       0         숫자 1\n",
              "2      /train/2      10         숫자 1\n",
              "3      /train/3      10         숫자 1\n",
              "4      /train/4      10         숫자 1\n",
              "..          ...     ...          ...\n",
              "644  /train/644     194          빅토리\n",
              "645  /train/645     195  부정(엄지손 아래로)\n",
              "646  /train/646     195  부정(엄지손 아래로)\n",
              "647  /train/647     195  부정(엄지손 아래로)\n",
              "648  /train/648     195  부정(엄지손 아래로)\n",
              "\n",
              "[649 rows x 3 columns]"
            ]
          },
          "metadata": {},
          "execution_count": 5
        }
      ]
    },
    {
      "cell_type": "markdown",
      "metadata": {
        "id": "rXRGpK-4uMhY"
      },
      "source": [
        "# preprocessing"
      ]
    },
    {
      "cell_type": "code",
      "metadata": {
        "id": "tHh10uhs6mc5"
      },
      "source": [
        "BATCH_SIZE = 32\n",
        "\n",
        "image_transforms = { \n",
        "    'retrain': transforms.Compose([\n",
        "        transforms.RandomResizedCrop(size=256, scale=(0.8, 1.0)), # 랜덤 크기로 자른 후 잘라낸 이미지의 크기는 256x256로 조정\n",
        "        transforms.RandomRotation(degrees=15),                    # 영상을 -15~15도 범위에서 랜덤 각도로 회전\n",
        "        transforms.RandomHorizontalFlip(),                        # 50% 확률로 이미지를 수평으로 랜덤하게 뒤집는다.\n",
        "        transforms.CenterCrop(size=224),                          # 중앙에서 224x224 이미지를 자른다.\n",
        "        transforms.ToTensor(),\n",
        "        transforms.Normalize([0.485, 0.456, 0.406],\n",
        "                             [0.229, 0.224, 0.225])               # 3채널 tensor을 취하며 각 채널의 입력 평균과 표준 편차로 각 채널을 정규화\n",
        "    ]),\n",
        "    'test': transforms.Compose([\n",
        "        transforms.Resize(size=256),\n",
        "        transforms.CenterCrop(size=224),\n",
        "        transforms.ToTensor(),\n",
        "        transforms.Normalize([0.485, 0.456, 0.406],\n",
        "                             [0.229, 0.224, 0.225])\n",
        "    ])\n",
        "}\n",
        "\n",
        "#split train val \n",
        "\n",
        "image_datasets = {x: datasets.ImageFolder(os.path.join(data_path,x),                        # 이미지 데이터를 불러오는 것을 의미. ../data/hymenoptera_data 위치에 접근해 train 폴더와 val 폴더에 접근해 데이터를 불러온다. \n",
        "                                          image_transforms[x]) for x in ['retrain', 'test']}  # 기존 정의한 data_transforms의 학습 데이터셋에 이용되는 전처리 과정, 검증 데이터셋에 이용되는 전처리 과정을 각각 적용하는 것\n",
        "dataloaders = {x: torch.utils.data.DataLoader(image_datasets[x],                            # 불러온 이미지를 mini-batch 단위로 구분하기 위해 utils.data.dataloader 함수를 이용. 각각 적용하기 위해 dictionary 구조를 사용\n",
        "                                              batch_size = BATCH_SIZE,                      # mini-batch를 구성하는 데이터 개수는 기존에 정의한 batch-size로 설정\n",
        "                                              num_workers = 0,                              # num_workers = 0 은 처리하는 프로세싱에 관련된 내용이며 멀티 프로세싱으로 진행하지 않는 한 0으로 기본값을 이용. \n",
        "                                                                                            # 프로세스를 동시에 처리하는 개수만큼 num_workers를 지정\n",
        "                                              shuffle = True) for x in ['retrain', 'test']}   # 데이터 순서를 섞는 의미로 shuffle = true \n"
      ],
      "execution_count": null,
      "outputs": []
    },
    {
      "cell_type": "markdown",
      "metadata": {
        "id": "dqiYNZX0vUq-"
      },
      "source": [
        "# Modeling"
      ]
    },
    {
      "cell_type": "code",
      "metadata": {
        "id": "wa7KZgth6r4A"
      },
      "source": [
        "''' 6. 불러온 특정 모델에 대하여 학습을 진행하며 학습 데이터에 대한 모델 성능을 확인하는 함수 정의 '''\n",
        "def train(model, train_loader, optimizer, log_interval):\n",
        "    model.train()\n",
        "    for batch_idx, (image, label) in enumerate(train_loader):\n",
        "        image = image.to(DEVICE)\n",
        "        label = label.to(DEVICE)\n",
        "        optimizer.zero_grad()\n",
        "        output = model(image)\n",
        "        loss = criterion(output, label)\n",
        "        loss.backward()\n",
        "        optimizer.step()\n",
        "\n",
        "        if batch_idx % log_interval == 0:\n",
        "          print(\"\\ntrain epoch: {} [{}/{}({:.0f}%]\\tTrain Loss: {:.6f}\".format(epoch,batch_idx * len(image),len(train_loader.dataset),100.*batch_idx / len(train_loader),loss.item()))\n",
        "\n",
        "def evaluate(model, test_loader):\n",
        "    model.eval()\n",
        "    test_loss = 0\n",
        "    correct = 0\n",
        "\n",
        "    with torch.no_grad():                                                                   # 평가에서는 gradient를 통해 파라미터 값이 업데이트되는 현상을 방지하기 위해 no.grad 메서드를 이용해 gradient의 흐름을 억제\n",
        "        for image, label in test_loader:\n",
        "            image = image.to(DEVICE)\n",
        "            label = label.to(DEVICE)\n",
        "            output = model(image)\n",
        "            prediction = output.max(1, keepdim = True)[1]\n",
        "            correct += prediction.eq(label.view_as(prediction)).sum().item()\n",
        "    \n",
        "    test_loss /= (len(test_loader.dataset) / BATCH_SIZE)\n",
        "    test_accuracy = 100. * correct / len(test_loader.dataset)\n",
        "    return test_loss, test_accuracy"
      ],
      "execution_count": null,
      "outputs": []
    },
    {
      "cell_type": "code",
      "metadata": {
        "id": "0WnzZUlnVRHd"
      },
      "source": [
        "''' 8. PyTorch 내에서 제공하는 미리 학습되지 않은 ResNet18 모델 불러온 후 Output 크기 설정하기 '''\n",
        "import torchvision.models as models\n",
        "model = models.resnet18(pretrained = False).to(DEVICE)                                      # false는 모델의 구조만 불러오고 initailzer에서 랜덤으로 샘플링한 값을 이용해 모델\n",
        "                                                                                            \n",
        "num_ftrs = model.fc.in_features                                                             # model를 이용해 불러온 resnet34 모델에 대해 fully connected layer을 구성하고 있는 부분에 접근한다. in_features는 input에 해당하는 노드수를 지정\n",
        "model.fc = nn.Linear(num_ftrs, 157) # 157(classes.shape[1]), 217(answer row), 649(classes.shape[0])\n",
        "model = model.to(DEVICE)\n",
        "\n",
        "''' 9. Optimizer, Objective Function 설정하기 '''\n",
        "optimizer = torch.optim.Adam(model.parameters(), lr = 0.0001)                               \n",
        "criterion = nn.CrossEntropyLoss()                           "
      ],
      "execution_count": null,
      "outputs": []
    },
    {
      "cell_type": "code",
      "metadata": {
        "id": "IoUoUrc1KGju"
      },
      "source": [
        "print(model.in_features)"
      ],
      "execution_count": null,
      "outputs": []
    },
    {
      "cell_type": "code",
      "metadata": {
        "id": "3LsKyEB4VSyw"
      },
      "source": [
        "for epoch in tqdm(range(10)):                                                             # 학습을 진행할 때는 전체 데이터셋을 이용하는 횟수만큼 반복문을 실행\n",
        "  train(model, dataloaders['retrain'], optimizer, log_interval=200)                       # 정의한 train함수 실행. model은 기존에 정의한 모델, train_loader은 학습 데이터, optimizer은 adam, log_interval은 mini-batch의 index를 이용해 과정을 출력"
      ],
      "execution_count": null,
      "outputs": []
    },
    {
      "cell_type": "markdown",
      "metadata": {
        "id": "QdX_EELU7CKI"
      },
      "source": [
        "# Test function"
      ]
    },
    {
      "cell_type": "code",
      "metadata": {
        "id": "7YrTkDXd7z-J"
      },
      "source": [
        "predictions = []\n",
        "answers = []\n",
        "\n",
        "with torch.no_grad():\n",
        "  for test_folder in tqdm(test_folders):\n",
        "    with open(test_folder + '/{}.json'.format(test_folder.split('/')[-1]), 'r') as js:\n",
        "      temp = json.load(js)\n",
        "      imgs = []\n",
        "      for i in temp['annotations']:\n",
        "        image_path = test_folder + '/{}.png'.format(i['image_id'])\n",
        "        img = PIL.Image.open(image_path).convert('RGB')\n",
        "        img = image_transforms['test'](img)\n",
        "        imgs.append(img)\n",
        "\n",
        "      imgs = torch.stack(imgs).to(DEVICE)\n",
        "      \n",
        "      prediction = model(imgs)\n",
        "      prediction = torch.nn.Softmax(dim=1)(prediction)\n",
        "      prediction = torch.mean(prediction, dim=0)\n",
        "      \n",
        "      predictions.append(prediction.cpu().numpy())\n",
        "\n",
        "print(\"\\n\",len(predictions),len(predictions[0]))"
      ],
      "execution_count": null,
      "outputs": []
    },
    {
      "cell_type": "markdown",
      "metadata": {
        "id": "Y6m9T2m16uia"
      },
      "source": [
        "# sample submission"
      ]
    },
    {
      "cell_type": "code",
      "metadata": {
        "id": "1G5wgrhSvdI_",
        "colab": {
          "base_uri": "https://localhost:8080/",
          "height": 253
        },
        "outputId": "c9375b48-ed98-4bbf-fe56-874ce429290e"
      },
      "source": [
        "sample_submission.iloc[:,1:] = predictions\n",
        "display(sample_submission.head())\n",
        "sample_submission.to_csv('./submission.csv', index=False)"
      ],
      "execution_count": null,
      "outputs": [
        {
          "output_type": "display_data",
          "data": {
            "text/html": [
              "<div>\n",
              "<style scoped>\n",
              "    .dataframe tbody tr th:only-of-type {\n",
              "        vertical-align: middle;\n",
              "    }\n",
              "\n",
              "    .dataframe tbody tr th {\n",
              "        vertical-align: top;\n",
              "    }\n",
              "\n",
              "    .dataframe thead th {\n",
              "        text-align: right;\n",
              "    }\n",
              "</style>\n",
              "<table border=\"1\" class=\"dataframe\">\n",
              "  <thead>\n",
              "    <tr style=\"text-align: right;\">\n",
              "      <th></th>\n",
              "      <th>Image_Path</th>\n",
              "      <th>Label_0</th>\n",
              "      <th>Label_1</th>\n",
              "      <th>Label_2</th>\n",
              "      <th>Label_3</th>\n",
              "      <th>Label_4</th>\n",
              "      <th>Label_5</th>\n",
              "      <th>Label_6</th>\n",
              "      <th>Label_7</th>\n",
              "      <th>Label_8</th>\n",
              "      <th>Label_9</th>\n",
              "      <th>Label_10</th>\n",
              "      <th>Label_11</th>\n",
              "      <th>Label_12</th>\n",
              "      <th>Label_13</th>\n",
              "      <th>Label_14</th>\n",
              "      <th>Label_15</th>\n",
              "      <th>Label_16</th>\n",
              "      <th>Label_17</th>\n",
              "      <th>Label_18</th>\n",
              "      <th>Label_19</th>\n",
              "      <th>Label_22</th>\n",
              "      <th>Label_23</th>\n",
              "      <th>Label_25</th>\n",
              "      <th>Label_26</th>\n",
              "      <th>Label_27</th>\n",
              "      <th>Label_28</th>\n",
              "      <th>Label_29</th>\n",
              "      <th>Label_31</th>\n",
              "      <th>Label_32</th>\n",
              "      <th>Label_34</th>\n",
              "      <th>Label_35</th>\n",
              "      <th>Label_36</th>\n",
              "      <th>Label_37</th>\n",
              "      <th>Label_39</th>\n",
              "      <th>Label_40</th>\n",
              "      <th>Label_41</th>\n",
              "      <th>Label_42</th>\n",
              "      <th>Label_43</th>\n",
              "      <th>Label_44</th>\n",
              "      <th>...</th>\n",
              "      <th>Label_142</th>\n",
              "      <th>Label_143</th>\n",
              "      <th>Label_144</th>\n",
              "      <th>Label_145</th>\n",
              "      <th>Label_146</th>\n",
              "      <th>Label_147</th>\n",
              "      <th>Label_148</th>\n",
              "      <th>Label_149</th>\n",
              "      <th>Label_150</th>\n",
              "      <th>Label_151</th>\n",
              "      <th>Label_153</th>\n",
              "      <th>Label_154</th>\n",
              "      <th>Label_155</th>\n",
              "      <th>Label_156</th>\n",
              "      <th>Label_157</th>\n",
              "      <th>Label_158</th>\n",
              "      <th>Label_159</th>\n",
              "      <th>Label_160</th>\n",
              "      <th>Label_161</th>\n",
              "      <th>Label_162</th>\n",
              "      <th>Label_163</th>\n",
              "      <th>Label_165</th>\n",
              "      <th>Label_167</th>\n",
              "      <th>Label_168</th>\n",
              "      <th>Label_169</th>\n",
              "      <th>Label_171</th>\n",
              "      <th>Label_172</th>\n",
              "      <th>Label_173</th>\n",
              "      <th>Label_174</th>\n",
              "      <th>Label_175</th>\n",
              "      <th>Label_177</th>\n",
              "      <th>Label_186</th>\n",
              "      <th>Label_188</th>\n",
              "      <th>Label_189</th>\n",
              "      <th>Label_190</th>\n",
              "      <th>Label_191</th>\n",
              "      <th>Label_192</th>\n",
              "      <th>Label_193</th>\n",
              "      <th>Label_194</th>\n",
              "      <th>Label_195</th>\n",
              "    </tr>\n",
              "  </thead>\n",
              "  <tbody>\n",
              "    <tr>\n",
              "      <th>0</th>\n",
              "      <td>./test\\649</td>\n",
              "      <td>0.009395</td>\n",
              "      <td>0.007558</td>\n",
              "      <td>0.008259</td>\n",
              "      <td>0.005699</td>\n",
              "      <td>0.008128</td>\n",
              "      <td>0.011552</td>\n",
              "      <td>0.005111</td>\n",
              "      <td>0.004351</td>\n",
              "      <td>0.004073</td>\n",
              "      <td>0.006696</td>\n",
              "      <td>0.008275</td>\n",
              "      <td>0.009446</td>\n",
              "      <td>0.002983</td>\n",
              "      <td>0.008663</td>\n",
              "      <td>0.006179</td>\n",
              "      <td>0.003904</td>\n",
              "      <td>0.007657</td>\n",
              "      <td>0.005157</td>\n",
              "      <td>0.005138</td>\n",
              "      <td>0.002488</td>\n",
              "      <td>0.007380</td>\n",
              "      <td>0.003872</td>\n",
              "      <td>0.002851</td>\n",
              "      <td>0.005278</td>\n",
              "      <td>0.012294</td>\n",
              "      <td>0.010584</td>\n",
              "      <td>0.005355</td>\n",
              "      <td>0.008809</td>\n",
              "      <td>0.002843</td>\n",
              "      <td>0.004081</td>\n",
              "      <td>0.006394</td>\n",
              "      <td>0.004864</td>\n",
              "      <td>0.004350</td>\n",
              "      <td>0.002795</td>\n",
              "      <td>0.002623</td>\n",
              "      <td>0.008124</td>\n",
              "      <td>0.009250</td>\n",
              "      <td>0.010609</td>\n",
              "      <td>0.006102</td>\n",
              "      <td>...</td>\n",
              "      <td>0.003195</td>\n",
              "      <td>0.005448</td>\n",
              "      <td>0.004772</td>\n",
              "      <td>0.009322</td>\n",
              "      <td>0.004290</td>\n",
              "      <td>0.004296</td>\n",
              "      <td>0.003567</td>\n",
              "      <td>0.004550</td>\n",
              "      <td>0.011385</td>\n",
              "      <td>0.006055</td>\n",
              "      <td>0.004453</td>\n",
              "      <td>0.005133</td>\n",
              "      <td>0.009172</td>\n",
              "      <td>0.006895</td>\n",
              "      <td>0.007758</td>\n",
              "      <td>0.004392</td>\n",
              "      <td>0.009994</td>\n",
              "      <td>0.006576</td>\n",
              "      <td>0.003458</td>\n",
              "      <td>0.008553</td>\n",
              "      <td>0.008244</td>\n",
              "      <td>0.003474</td>\n",
              "      <td>0.010709</td>\n",
              "      <td>0.014482</td>\n",
              "      <td>0.007295</td>\n",
              "      <td>0.006263</td>\n",
              "      <td>0.009946</td>\n",
              "      <td>0.006603</td>\n",
              "      <td>0.010261</td>\n",
              "      <td>0.004035</td>\n",
              "      <td>0.003716</td>\n",
              "      <td>0.004413</td>\n",
              "      <td>0.004550</td>\n",
              "      <td>0.005000</td>\n",
              "      <td>0.004726</td>\n",
              "      <td>0.003018</td>\n",
              "      <td>0.005029</td>\n",
              "      <td>0.004541</td>\n",
              "      <td>0.004331</td>\n",
              "      <td>0.005185</td>\n",
              "    </tr>\n",
              "    <tr>\n",
              "      <th>1</th>\n",
              "      <td>./test\\650</td>\n",
              "      <td>0.009383</td>\n",
              "      <td>0.007577</td>\n",
              "      <td>0.007853</td>\n",
              "      <td>0.005696</td>\n",
              "      <td>0.008347</td>\n",
              "      <td>0.011630</td>\n",
              "      <td>0.005060</td>\n",
              "      <td>0.004373</td>\n",
              "      <td>0.004116</td>\n",
              "      <td>0.006767</td>\n",
              "      <td>0.007881</td>\n",
              "      <td>0.009563</td>\n",
              "      <td>0.003081</td>\n",
              "      <td>0.009044</td>\n",
              "      <td>0.006069</td>\n",
              "      <td>0.003761</td>\n",
              "      <td>0.007919</td>\n",
              "      <td>0.005105</td>\n",
              "      <td>0.005124</td>\n",
              "      <td>0.002491</td>\n",
              "      <td>0.007431</td>\n",
              "      <td>0.003808</td>\n",
              "      <td>0.002734</td>\n",
              "      <td>0.005392</td>\n",
              "      <td>0.011606</td>\n",
              "      <td>0.010241</td>\n",
              "      <td>0.005397</td>\n",
              "      <td>0.008777</td>\n",
              "      <td>0.002880</td>\n",
              "      <td>0.003960</td>\n",
              "      <td>0.006357</td>\n",
              "      <td>0.004876</td>\n",
              "      <td>0.004109</td>\n",
              "      <td>0.002792</td>\n",
              "      <td>0.002571</td>\n",
              "      <td>0.008151</td>\n",
              "      <td>0.009197</td>\n",
              "      <td>0.010654</td>\n",
              "      <td>0.006280</td>\n",
              "      <td>...</td>\n",
              "      <td>0.003278</td>\n",
              "      <td>0.005364</td>\n",
              "      <td>0.004842</td>\n",
              "      <td>0.009578</td>\n",
              "      <td>0.004385</td>\n",
              "      <td>0.004341</td>\n",
              "      <td>0.003585</td>\n",
              "      <td>0.004407</td>\n",
              "      <td>0.011704</td>\n",
              "      <td>0.006316</td>\n",
              "      <td>0.004465</td>\n",
              "      <td>0.005176</td>\n",
              "      <td>0.009021</td>\n",
              "      <td>0.007090</td>\n",
              "      <td>0.008082</td>\n",
              "      <td>0.004308</td>\n",
              "      <td>0.009624</td>\n",
              "      <td>0.006276</td>\n",
              "      <td>0.003433</td>\n",
              "      <td>0.008767</td>\n",
              "      <td>0.007784</td>\n",
              "      <td>0.003320</td>\n",
              "      <td>0.010892</td>\n",
              "      <td>0.014664</td>\n",
              "      <td>0.007259</td>\n",
              "      <td>0.006170</td>\n",
              "      <td>0.009965</td>\n",
              "      <td>0.006869</td>\n",
              "      <td>0.009989</td>\n",
              "      <td>0.004134</td>\n",
              "      <td>0.003722</td>\n",
              "      <td>0.004445</td>\n",
              "      <td>0.004431</td>\n",
              "      <td>0.004979</td>\n",
              "      <td>0.004692</td>\n",
              "      <td>0.003043</td>\n",
              "      <td>0.004995</td>\n",
              "      <td>0.004536</td>\n",
              "      <td>0.004284</td>\n",
              "      <td>0.005336</td>\n",
              "    </tr>\n",
              "    <tr>\n",
              "      <th>2</th>\n",
              "      <td>./test\\651</td>\n",
              "      <td>0.009521</td>\n",
              "      <td>0.007297</td>\n",
              "      <td>0.008021</td>\n",
              "      <td>0.005727</td>\n",
              "      <td>0.008025</td>\n",
              "      <td>0.011789</td>\n",
              "      <td>0.005086</td>\n",
              "      <td>0.004343</td>\n",
              "      <td>0.004036</td>\n",
              "      <td>0.006791</td>\n",
              "      <td>0.008057</td>\n",
              "      <td>0.009754</td>\n",
              "      <td>0.003003</td>\n",
              "      <td>0.009029</td>\n",
              "      <td>0.006180</td>\n",
              "      <td>0.003710</td>\n",
              "      <td>0.007846</td>\n",
              "      <td>0.005124</td>\n",
              "      <td>0.005043</td>\n",
              "      <td>0.002425</td>\n",
              "      <td>0.007502</td>\n",
              "      <td>0.003779</td>\n",
              "      <td>0.002777</td>\n",
              "      <td>0.005285</td>\n",
              "      <td>0.012145</td>\n",
              "      <td>0.010298</td>\n",
              "      <td>0.005377</td>\n",
              "      <td>0.008972</td>\n",
              "      <td>0.002825</td>\n",
              "      <td>0.003965</td>\n",
              "      <td>0.006322</td>\n",
              "      <td>0.004790</td>\n",
              "      <td>0.004328</td>\n",
              "      <td>0.002845</td>\n",
              "      <td>0.002675</td>\n",
              "      <td>0.008327</td>\n",
              "      <td>0.009200</td>\n",
              "      <td>0.010999</td>\n",
              "      <td>0.005941</td>\n",
              "      <td>...</td>\n",
              "      <td>0.003276</td>\n",
              "      <td>0.005423</td>\n",
              "      <td>0.004743</td>\n",
              "      <td>0.009463</td>\n",
              "      <td>0.004240</td>\n",
              "      <td>0.004421</td>\n",
              "      <td>0.003528</td>\n",
              "      <td>0.004423</td>\n",
              "      <td>0.011620</td>\n",
              "      <td>0.006099</td>\n",
              "      <td>0.004430</td>\n",
              "      <td>0.005046</td>\n",
              "      <td>0.009128</td>\n",
              "      <td>0.007193</td>\n",
              "      <td>0.008111</td>\n",
              "      <td>0.004322</td>\n",
              "      <td>0.009856</td>\n",
              "      <td>0.006385</td>\n",
              "      <td>0.003404</td>\n",
              "      <td>0.008435</td>\n",
              "      <td>0.008028</td>\n",
              "      <td>0.003429</td>\n",
              "      <td>0.010968</td>\n",
              "      <td>0.014708</td>\n",
              "      <td>0.007277</td>\n",
              "      <td>0.006211</td>\n",
              "      <td>0.010059</td>\n",
              "      <td>0.006937</td>\n",
              "      <td>0.010051</td>\n",
              "      <td>0.004138</td>\n",
              "      <td>0.003735</td>\n",
              "      <td>0.004333</td>\n",
              "      <td>0.004449</td>\n",
              "      <td>0.004966</td>\n",
              "      <td>0.004762</td>\n",
              "      <td>0.003014</td>\n",
              "      <td>0.004808</td>\n",
              "      <td>0.004503</td>\n",
              "      <td>0.004315</td>\n",
              "      <td>0.005134</td>\n",
              "    </tr>\n",
              "    <tr>\n",
              "      <th>3</th>\n",
              "      <td>./test\\652</td>\n",
              "      <td>0.009422</td>\n",
              "      <td>0.007603</td>\n",
              "      <td>0.008262</td>\n",
              "      <td>0.005798</td>\n",
              "      <td>0.008561</td>\n",
              "      <td>0.012067</td>\n",
              "      <td>0.005086</td>\n",
              "      <td>0.004417</td>\n",
              "      <td>0.003918</td>\n",
              "      <td>0.006853</td>\n",
              "      <td>0.008095</td>\n",
              "      <td>0.009417</td>\n",
              "      <td>0.003016</td>\n",
              "      <td>0.008847</td>\n",
              "      <td>0.006061</td>\n",
              "      <td>0.003750</td>\n",
              "      <td>0.007656</td>\n",
              "      <td>0.004991</td>\n",
              "      <td>0.005150</td>\n",
              "      <td>0.002464</td>\n",
              "      <td>0.007516</td>\n",
              "      <td>0.003697</td>\n",
              "      <td>0.002671</td>\n",
              "      <td>0.005471</td>\n",
              "      <td>0.011899</td>\n",
              "      <td>0.010645</td>\n",
              "      <td>0.005349</td>\n",
              "      <td>0.008929</td>\n",
              "      <td>0.002847</td>\n",
              "      <td>0.003993</td>\n",
              "      <td>0.006319</td>\n",
              "      <td>0.004703</td>\n",
              "      <td>0.004151</td>\n",
              "      <td>0.002923</td>\n",
              "      <td>0.002597</td>\n",
              "      <td>0.008312</td>\n",
              "      <td>0.009167</td>\n",
              "      <td>0.011084</td>\n",
              "      <td>0.006175</td>\n",
              "      <td>...</td>\n",
              "      <td>0.003350</td>\n",
              "      <td>0.005243</td>\n",
              "      <td>0.004829</td>\n",
              "      <td>0.009477</td>\n",
              "      <td>0.004321</td>\n",
              "      <td>0.004183</td>\n",
              "      <td>0.003380</td>\n",
              "      <td>0.004370</td>\n",
              "      <td>0.011460</td>\n",
              "      <td>0.006272</td>\n",
              "      <td>0.004292</td>\n",
              "      <td>0.004979</td>\n",
              "      <td>0.008991</td>\n",
              "      <td>0.007061</td>\n",
              "      <td>0.008098</td>\n",
              "      <td>0.004197</td>\n",
              "      <td>0.009939</td>\n",
              "      <td>0.006449</td>\n",
              "      <td>0.003444</td>\n",
              "      <td>0.008285</td>\n",
              "      <td>0.007770</td>\n",
              "      <td>0.003385</td>\n",
              "      <td>0.010724</td>\n",
              "      <td>0.014794</td>\n",
              "      <td>0.007265</td>\n",
              "      <td>0.006216</td>\n",
              "      <td>0.009986</td>\n",
              "      <td>0.006760</td>\n",
              "      <td>0.009922</td>\n",
              "      <td>0.004201</td>\n",
              "      <td>0.003853</td>\n",
              "      <td>0.004437</td>\n",
              "      <td>0.004267</td>\n",
              "      <td>0.005008</td>\n",
              "      <td>0.004681</td>\n",
              "      <td>0.003038</td>\n",
              "      <td>0.004830</td>\n",
              "      <td>0.004614</td>\n",
              "      <td>0.004363</td>\n",
              "      <td>0.005245</td>\n",
              "    </tr>\n",
              "    <tr>\n",
              "      <th>4</th>\n",
              "      <td>./test\\653</td>\n",
              "      <td>0.009521</td>\n",
              "      <td>0.007582</td>\n",
              "      <td>0.008219</td>\n",
              "      <td>0.005705</td>\n",
              "      <td>0.008354</td>\n",
              "      <td>0.011757</td>\n",
              "      <td>0.005101</td>\n",
              "      <td>0.004225</td>\n",
              "      <td>0.003893</td>\n",
              "      <td>0.006974</td>\n",
              "      <td>0.008242</td>\n",
              "      <td>0.009378</td>\n",
              "      <td>0.003012</td>\n",
              "      <td>0.008851</td>\n",
              "      <td>0.006039</td>\n",
              "      <td>0.003713</td>\n",
              "      <td>0.007679</td>\n",
              "      <td>0.004946</td>\n",
              "      <td>0.005184</td>\n",
              "      <td>0.002471</td>\n",
              "      <td>0.007575</td>\n",
              "      <td>0.003835</td>\n",
              "      <td>0.002701</td>\n",
              "      <td>0.005462</td>\n",
              "      <td>0.012186</td>\n",
              "      <td>0.010700</td>\n",
              "      <td>0.005259</td>\n",
              "      <td>0.009044</td>\n",
              "      <td>0.002882</td>\n",
              "      <td>0.003983</td>\n",
              "      <td>0.006225</td>\n",
              "      <td>0.004640</td>\n",
              "      <td>0.004041</td>\n",
              "      <td>0.002814</td>\n",
              "      <td>0.002614</td>\n",
              "      <td>0.008015</td>\n",
              "      <td>0.009091</td>\n",
              "      <td>0.010936</td>\n",
              "      <td>0.006082</td>\n",
              "      <td>...</td>\n",
              "      <td>0.003227</td>\n",
              "      <td>0.005395</td>\n",
              "      <td>0.004744</td>\n",
              "      <td>0.009527</td>\n",
              "      <td>0.004288</td>\n",
              "      <td>0.004165</td>\n",
              "      <td>0.003380</td>\n",
              "      <td>0.004397</td>\n",
              "      <td>0.011590</td>\n",
              "      <td>0.006328</td>\n",
              "      <td>0.004349</td>\n",
              "      <td>0.005190</td>\n",
              "      <td>0.009116</td>\n",
              "      <td>0.007144</td>\n",
              "      <td>0.008039</td>\n",
              "      <td>0.004090</td>\n",
              "      <td>0.009504</td>\n",
              "      <td>0.006429</td>\n",
              "      <td>0.003394</td>\n",
              "      <td>0.008305</td>\n",
              "      <td>0.007829</td>\n",
              "      <td>0.003408</td>\n",
              "      <td>0.011036</td>\n",
              "      <td>0.014536</td>\n",
              "      <td>0.007506</td>\n",
              "      <td>0.006246</td>\n",
              "      <td>0.010203</td>\n",
              "      <td>0.006684</td>\n",
              "      <td>0.009901</td>\n",
              "      <td>0.004200</td>\n",
              "      <td>0.003814</td>\n",
              "      <td>0.004366</td>\n",
              "      <td>0.004335</td>\n",
              "      <td>0.004986</td>\n",
              "      <td>0.004659</td>\n",
              "      <td>0.002978</td>\n",
              "      <td>0.004778</td>\n",
              "      <td>0.004552</td>\n",
              "      <td>0.004251</td>\n",
              "      <td>0.005289</td>\n",
              "    </tr>\n",
              "  </tbody>\n",
              "</table>\n",
              "<p>5 rows × 158 columns</p>\n",
              "</div>"
            ],
            "text/plain": [
              "   Image_Path   Label_0   Label_1  ...  Label_193  Label_194  Label_195\n",
              "0  ./test\\649  0.009395  0.007558  ...   0.004541   0.004331   0.005185\n",
              "1  ./test\\650  0.009383  0.007577  ...   0.004536   0.004284   0.005336\n",
              "2  ./test\\651  0.009521  0.007297  ...   0.004503   0.004315   0.005134\n",
              "3  ./test\\652  0.009422  0.007603  ...   0.004614   0.004363   0.005245\n",
              "4  ./test\\653  0.009521  0.007582  ...   0.004552   0.004251   0.005289\n",
              "\n",
              "[5 rows x 158 columns]"
            ]
          },
          "metadata": {}
        }
      ]
    },
    {
      "cell_type": "markdown",
      "metadata": {
        "id": "8sDEsK-rOo_0"
      },
      "source": [
        "#  "
      ]
    },
    {
      "cell_type": "markdown",
      "metadata": {
        "id": "uocd4u5NiCkx"
      },
      "source": [
        "#  "
      ]
    },
    {
      "cell_type": "markdown",
      "metadata": {
        "id": "9TXuC601bvVj"
      },
      "source": [
        "#  "
      ]
    },
    {
      "cell_type": "markdown",
      "metadata": {
        "id": "6M0W0T90bxSN"
      },
      "source": [
        "#  "
      ]
    },
    {
      "cell_type": "markdown",
      "metadata": {
        "id": "SB6BUuBsbwtP"
      },
      "source": [
        "#  "
      ]
    },
    {
      "cell_type": "markdown",
      "metadata": {
        "id": "vx_Dkhe_Widb"
      },
      "source": [
        "#  "
      ]
    },
    {
      "cell_type": "markdown",
      "metadata": {
        "id": "U26t7K9V4oCU"
      },
      "source": [
        "evaluate는 val인데 지금 test로 쓰고 있어서 이상한 듯하다.\n"
      ]
    },
    {
      "cell_type": "markdown",
      "metadata": {
        "id": "Regg_PLHu5q9"
      },
      "source": [
        "# Key Point를 이용하여 손동작 이미지 자르기"
      ]
    },
    {
      "cell_type": "code",
      "metadata": {
        "id": "wv1N1zCOu4dI"
      },
      "source": [
        "import json\n",
        "\n",
        "import cv2\n",
        "import matplotlib.pyplot as plt\n",
        "\n",
        "# train/0 폴더의 0번 이미지 로드 후 플랏\n",
        "test_image = cv2.imread(image_path)\n",
        "test_image = cv2.cvtColor(test_image, cv2.COLOR_BGR2RGB)"
      ],
      "execution_count": null,
      "outputs": []
    },
    {
      "cell_type": "code",
      "metadata": {
        "colab": {
          "base_uri": "https://localhost:8080/"
        },
        "id": "vyG9z6AvvSYc",
        "outputId": "bd72d574-1b60-4605-8ac5-625d4dbc964f"
      },
      "source": [
        "import numpy as np\n",
        "\n",
        "# key point를 이용하여 첫 번째 이미지를 crop\n",
        "fd = json.load(open(json_path))\n",
        "annotations = fd['annotations']\n",
        "\n",
        "# 0번째 이미지의 annotation data\n",
        "test_image_annotation = annotations[0]['data']\n",
        "print(test_image_annotation)"
      ],
      "execution_count": null,
      "outputs": [
        {
          "ename": "TypeError",
          "evalue": "ignored",
          "output_type": "error",
          "traceback": [
            "\u001b[0;31m---------------------------------------------------------------------------\u001b[0m",
            "\u001b[0;31mTypeError\u001b[0m                                 Traceback (most recent call last)",
            "\u001b[0;32m<ipython-input-57-2a3443c664bf>\u001b[0m in \u001b[0;36m<module>\u001b[0;34m()\u001b[0m\n\u001b[1;32m      6\u001b[0m \u001b[0;34m\u001b[0m\u001b[0m\n\u001b[1;32m      7\u001b[0m \u001b[0;31m# 0번째 이미지의 annotation data\u001b[0m\u001b[0;34m\u001b[0m\u001b[0;34m\u001b[0m\u001b[0;34m\u001b[0m\u001b[0m\n\u001b[0;32m----> 8\u001b[0;31m \u001b[0mtest_image_annotation\u001b[0m \u001b[0;34m=\u001b[0m \u001b[0mannotations\u001b[0m\u001b[0;34m[\u001b[0m\u001b[0;34m'data'\u001b[0m\u001b[0;34m]\u001b[0m\u001b[0;34m\u001b[0m\u001b[0;34m\u001b[0m\u001b[0m\n\u001b[0m\u001b[1;32m      9\u001b[0m \u001b[0mprint\u001b[0m\u001b[0;34m(\u001b[0m\u001b[0mtest_image_annotation\u001b[0m\u001b[0;34m)\u001b[0m\u001b[0;34m\u001b[0m\u001b[0;34m\u001b[0m\u001b[0m\n",
            "\u001b[0;31mTypeError\u001b[0m: list indices must be integers or slices, not str"
          ]
        }
      ]
    },
    {
      "cell_type": "code",
      "metadata": {
        "colab": {
          "base_uri": "https://localhost:8080/"
        },
        "id": "rzGCH2kSvVmA",
        "outputId": "8b9319db-6855-4986-8b8a-d5392c51b71b"
      },
      "source": [
        "# annotation data의 max와 min point를 가져온 후 이미지 잘림 방지를 위해 각각의 크기에 100을 더해주고 빼줌\n",
        "max_point = np.max(np.array(test_image_annotation), axis=0).astype(int) + 100\n",
        "min_point = np.min(np.array(test_image_annotation), axis=0).astype(int) - 100\n",
        "max_point = max_point[:-1] # remove Z order\n",
        "min_point = min_point[:-1] # remove Z order\n",
        "\n",
        "max_x, max_y = max_point\n",
        "min_x, min_y = min_point\n",
        "\n",
        "# 데이터 포인트의 크기가 원 이미지를 넘어서는 경우를 방지\n",
        "max_x = max_x if max_x < 1920 else 1920\n",
        "max_y = max_y if max_y < 1080 else 1080\n",
        "min_x = min_x if min_x > 0 else 0\n",
        "min_y = min_y if min_y > 0 else 0\n",
        "\n",
        "\n",
        "print(max_x, max_y)\n",
        "print(min_x, min_y)"
      ],
      "execution_count": null,
      "outputs": [
        {
          "name": "stdout",
          "output_type": "stream",
          "text": [
            "1519 587\n",
            "518 133\n"
          ]
        }
      ]
    },
    {
      "cell_type": "code",
      "metadata": {
        "colab": {
          "base_uri": "https://localhost:8080/"
        },
        "id": "hOiBCPWcvWWN",
        "outputId": "b642b2d4-3d15-4672-dd1d-91fbe711fcf3"
      },
      "source": [
        "crop_image = test_image[min_y:max_y+200, min_x:max_x-200]\n",
        "plt.imshow(crop_image)\n",
        "plt.show()"
      ],
      "execution_count": null,
      "outputs": [
        {
          "data": {
            "image/png": "[encoded data removed]",
            "text/plain": [
              "<Figure size 432x288 with 1 Axes>"
            ]
          },
          "metadata": {},
          "output_type": "display_data"
        }
      ]
    },
    {
      "cell_type": "code",
      "metadata": {
        "colab": {
          "base_uri": "https://localhost:8080/"
        },
        "id": "qxPPmIKq9Hdg",
        "outputId": "ad469506-e13e-4c7d-b202-b380b662573c"
      },
      "source": [
        "train_folders = sorted(glob(train_path + '/*'), key = lambda x : int(x.split('/')[-1]))\n",
        "\n",
        "for train_folder in train_folders:\n",
        "  image_paths = sorted(glob(train_folder + '/*.png'), key = lambda x : int(x.split('/')[-1].replace('.png','')))\n",
        "  json_path = glob(train_folder + '/*.json')[0]\n",
        "  js = json.load(open(json_path))\n",
        "  \n",
        "  annotations = js['annotations']\n",
        "  annotation = annotations[0]['data']\n",
        "\n",
        "  max_point = np.max(np.array(annotation), axis=0).astype(int) + 100\n",
        "  min_point = np.min(np.array(annotation), axis=0).astype(int) - 100\n",
        "  max_point = max_point[:-1] # remove Z order\n",
        "  min_point = min_point[:-1] # remove Z order\n",
        "  max_x, max_y = max_point\n",
        "  min_x, min_y = min_point\n",
        "\n",
        "  # 데이터 포인트의 크기가 원 이미지를 넘어서는 경우를 방지\n",
        "  max_x = max_x if max_x < 1920 else 1920\n",
        "  max_y = max_y if max_y < 1080 else 1080\n",
        "  min_x = min_x if min_x > 0 else 0\n",
        "  min_y = min_y if min_y > 0 else 0\n",
        "\n",
        "  print(image_paths)\n",
        "  crop_image = cv2.imread(image_paths)\n",
        "  crop_image = cv2.cvtColor(test_image, cv2.COLOR_BGR2RGB)\n",
        "  image = crop_image[min_y:max_y, min_x:max_x]\n",
        "    \n",
        "  plt.imshow(image)\n",
        "  plt.show()"
      ],
      "execution_count": null,
      "outputs": [
        {
          "name": "stdout",
          "output_type": "stream",
          "text": [
            "['/content/drive/MyDrive/dacon/train/0/0.png', '/content/drive/MyDrive/dacon/train/0/1.png', '/content/drive/MyDrive/dacon/train/0/2.png', '/content/drive/MyDrive/dacon/train/0/3.png', '/content/drive/MyDrive/dacon/train/0/4.png', '/content/drive/MyDrive/dacon/train/0/5.png', '/content/drive/MyDrive/dacon/train/0/6.png', '/content/drive/MyDrive/dacon/train/0/7.png', '/content/drive/MyDrive/dacon/train/0/8.png', '/content/drive/MyDrive/dacon/train/0/9.png']\n"
          ]
        },
        {
          "ename": "SystemError",
          "evalue": "ignored",
          "output_type": "error",
          "traceback": [
            "\u001b[0;31m---------------------------------------------------------------------------\u001b[0m",
            "\u001b[0;31mSystemError\u001b[0m                               Traceback (most recent call last)",
            "\u001b[0;32m<ipython-input-85-f3f4e73c7d00>\u001b[0m in \u001b[0;36m<module>\u001b[0;34m()\u001b[0m\n\u001b[1;32m     21\u001b[0m   \u001b[0mimage_paths\u001b[0m \u001b[0;34m=\u001b[0m \u001b[0msorted\u001b[0m\u001b[0;34m(\u001b[0m\u001b[0mglob\u001b[0m\u001b[0;34m(\u001b[0m\u001b[0mtrain_folder\u001b[0m \u001b[0;34m+\u001b[0m \u001b[0;34m'/*.png'\u001b[0m\u001b[0;34m)\u001b[0m\u001b[0;34m,\u001b[0m \u001b[0mkey\u001b[0m \u001b[0;34m=\u001b[0m \u001b[0;32mlambda\u001b[0m \u001b[0mx\u001b[0m \u001b[0;34m:\u001b[0m \u001b[0mint\u001b[0m\u001b[0;34m(\u001b[0m\u001b[0mx\u001b[0m\u001b[0;34m.\u001b[0m\u001b[0msplit\u001b[0m\u001b[0;34m(\u001b[0m\u001b[0;34m'/'\u001b[0m\u001b[0;34m)\u001b[0m\u001b[0;34m[\u001b[0m\u001b[0;34m-\u001b[0m\u001b[0;36m1\u001b[0m\u001b[0;34m]\u001b[0m\u001b[0;34m.\u001b[0m\u001b[0mreplace\u001b[0m\u001b[0;34m(\u001b[0m\u001b[0;34m'.png'\u001b[0m\u001b[0;34m,\u001b[0m\u001b[0;34m''\u001b[0m\u001b[0;34m)\u001b[0m\u001b[0;34m)\u001b[0m\u001b[0;34m)\u001b[0m\u001b[0;34m\u001b[0m\u001b[0;34m\u001b[0m\u001b[0m\n\u001b[1;32m     22\u001b[0m   \u001b[0mprint\u001b[0m\u001b[0;34m(\u001b[0m\u001b[0mimage_paths\u001b[0m\u001b[0;34m)\u001b[0m\u001b[0;34m\u001b[0m\u001b[0;34m\u001b[0m\u001b[0m\n\u001b[0;32m---> 23\u001b[0;31m   \u001b[0mcrop_image\u001b[0m \u001b[0;34m=\u001b[0m \u001b[0mcv2\u001b[0m\u001b[0;34m.\u001b[0m\u001b[0mimread\u001b[0m\u001b[0;34m(\u001b[0m\u001b[0mimage_paths\u001b[0m\u001b[0;34m)\u001b[0m\u001b[0;34m\u001b[0m\u001b[0;34m\u001b[0m\u001b[0m\n\u001b[0m\u001b[1;32m     24\u001b[0m   \u001b[0mcrop_image\u001b[0m \u001b[0;34m=\u001b[0m \u001b[0mcv2\u001b[0m\u001b[0;34m.\u001b[0m\u001b[0mcvtColor\u001b[0m\u001b[0;34m(\u001b[0m\u001b[0mtest_image\u001b[0m\u001b[0;34m,\u001b[0m \u001b[0mcv2\u001b[0m\u001b[0;34m.\u001b[0m\u001b[0mCOLOR_BGR2RGB\u001b[0m\u001b[0;34m)\u001b[0m\u001b[0;34m\u001b[0m\u001b[0;34m\u001b[0m\u001b[0m\n\u001b[1;32m     25\u001b[0m   \u001b[0mimage\u001b[0m \u001b[0;34m=\u001b[0m \u001b[0mcrop_image\u001b[0m\u001b[0;34m[\u001b[0m\u001b[0mmin_y\u001b[0m\u001b[0;34m:\u001b[0m\u001b[0mmax_y\u001b[0m\u001b[0;34m+\u001b[0m\u001b[0;36m200\u001b[0m\u001b[0;34m,\u001b[0m \u001b[0mmin_x\u001b[0m\u001b[0;34m:\u001b[0m\u001b[0mmax_x\u001b[0m\u001b[0;34m-\u001b[0m\u001b[0;36m200\u001b[0m\u001b[0;34m]\u001b[0m\u001b[0;34m\u001b[0m\u001b[0;34m\u001b[0m\u001b[0m\n",
            "\u001b[0;31mSystemError\u001b[0m: <built-in function imread> returned NULL without setting an error"
          ]
        }
      ]
    },
    {
      "cell_type": "markdown",
      "metadata": {
        "id": "X2oxYBboh_dK"
      },
      "source": [
        "# Custom data"
      ]
    },
    {
      "cell_type": "markdown",
      "metadata": {
        "id": "IBkoDrt9JfV3"
      },
      "source": [
        "폴더 개수는 650개 정도 지만, 중복되는 것들이 많고, dirctory 는 650, num_class 는 157개 이므로 이를 맞춰서 라벨링 해야한다.\n",
        "\n",
        "x_train, y_train 만 맞추면 될 듯하다.\n",
        "\n",
        "answer에 대한 라벨과 이미지를 맞춰 train에 집어넣고 dataloader 시켜 사용\n",
        "\n",
        "<br>\n",
        "\n",
        "---\n",
        "<br>\n",
        "Train X Shape :  (5888, 224, 224, 3)<br>\n",
        "Train y Shape :  (5888, 157)<br>\n",
        "X_train shape :  (4710, 224, 224, 3)<br>\n",
        "y_train shape :  (4710, 157)<br>\n",
        "X_valid shape :  (1178, 224, 224, 3)<br>\n",
        "y_valid shape :  (1178, 157)\n",
        "\n",
        "<br>\n",
        "<br>\n",
        "\n",
        "---\n",
        "<br>\n",
        "\n",
        "print(target, train_folder.split('/')[-1])\n",
        "\n",
        "<br>\n",
        "\n",
        "[1 0 0 0 0 0 0 0 0 0 0 0 0 0 0 0 0 0 0 0 0 0 0 0 0 0 0 0 0 0 0 0 0 0 0 0 0\n",
        " 0 0 0 0 0 0 0 0 0 0 0 0 0 0 0 0 0 0 0 0 0 0 0 0 0 0 0 0 0 0 0 0 0 0 0 0 0\n",
        " 0 0 0 0 0 0 0 0 0 0 0 0 0 0 0 0 0 0 0 0 0 0 0 0 0 0 0 0 0 0 0 0 0 0 0 0 0\n",
        " 0 0 0 0 0 0 0 0 0 0 0 0 0 0 0 0 0 0 0 0 0 0 0 0 0 0 0 0 0 0 0 0 0 0 0 0 0\n",
        " 0 0 0 0 0 0 0 0 0] 0<br>\n",
        "[1 0 0 0 0 0 0 0 0 0 0 0 0 0 0 0 0 0 0 0 0 0 0 0 0 0 0 0 0 0 0 0 0 0 0 0 0\n",
        " 0 0 0 0 0 0 0 0 0 0 0 0 0 0 0 0 0 0 0 0 0 0 0 0 0 0 0 0 0 0 0 0 0 0 0 0 0\n",
        " 0 0 0 0 0 0 0 0 0 0 0 0 0 0 0 0 0 0 0 0 0 0 0 0 0 0 0 0 0 0 0 0 0 0 0 0 0\n",
        " 0 0 0 0 0 0 0 0 0 0 0 0 0 0 0 0 0 0 0 0 0 0 0 0 0 0 0 0 0 0 0 0 0 0 0 0 0\n",
        " 0 0 0 0 0 0 0 0 0] 1<br>\n",
        "[0 0 0 0 0 0 0 0 0 0 1 0 0 0 0 0 0 0 0 0 0 0 0 0 0 0 0 0 0 0 0 0 0 0 0 0 0\n",
        " 0 0 0 0 0 0 0 0 0 0 0 0 0 0 0 0 0 0 0 0 0 0 0 0 0 0 0 0 0 0 0 0 0 0 0 0 0\n",
        " 0 0 0 0 0 0 0 0 0 0 0 0 0 0 0 0 0 0 0 0 0 0 0 0 0 0 0 0 0 0 0 0 0 0 0 0 0\n",
        " 0 0 0 0 0 0 0 0 0 0 0 0 0 0 0 0 0 0 0 0 0 0 0 0 0 0 0 0 0 0 0 0 0 0 0 0 0\n",
        " 0 0 0 0 0 0 0 0 0] 2<br>\n",
        "[0 0 0 0 0 0 0 0 0 0 1 0 0 0 0 0 0 0 0 0 0 0 0 0 0 0 0 0 0 0 0 0 0 0 0 0 0\n",
        " 0 0 0 0 0 0 0 0 0 0 0 0 0 0 0 0 0 0 0 0 0 0 0 0 0 0 0 0 0 0 0 0 0 0 0 0 0\n",
        " 0 0 0 0 0 0 0 0 0 0 0 0 0 0 0 0 0 0 0 0 0 0 0 0 0 0 0 0 0 0 0 0 0 0 0 0 0\n",
        " 0 0 0 0 0 0 0 0 0 0 0 0 0 0 0 0 0 0 0 0 0 0 0 0 0 0 0 0 0 0 0 0 0 0 0 0 0\n",
        " 0 0 0 0 0 0 0 0 0] 3\n",
        "\n",
        " <br>\n",
        "\n",
        " <br>\n",
        "\n",
        "---\n",
        "---\n",
        "\n",
        " tensor([470, 380, 542,  59, 185, 330, 351,  67, 369, 592, 324, 229,   1, 380, 396,  27, 116, 372, 354, 170,  83, 383, 291,   8, 226,  93, 153, 424, 373, 308, 233, 219]),<br>\n",
        " tensor([388, 475, 469, 135, 641, 612,  97, 133, 131, 538, 330, 437, 138, 473,593, 235, 575, 157, 468, 620, 512, 195,  44,  84, 519, 626, 186, 426, 227, 142, 455, 173]),<br>\n",
        "\n",
        " train 폴더들을 다 풀어서 answer 같은 것들끼리 묶어서 폴더를 만들어준다음, dataset 시키면 되지 않을까\n",
        "\n",
        " 지금 보면 train 폴더마다 answer이 정해져있지만, 같은 중복되는 answer을 가진 train 폴더거 많다.\n",
        "\n",
        "<br>\n",
        "\n",
        "<br>\n",
        "\n",
        "\n",
        "\n",
        "---\n",
        "\n",
        "---\n",
        "\n",
        "testdataloader에 대한 x_test와 y_test 크기도 맞춰봐야 하는 듯하다.\n",
        "\n",
        "\n"
      ]
    },
    {
      "cell_type": "code",
      "metadata": {
        "id": "CkN7B0V1IXsw"
      },
      "source": [
        "answers = []\n",
        "\n",
        "for train_folder in tqdm(train_folders) :\n",
        "    json_path = glob(train_folder + '/*.json')[0]\n",
        "    js = json.load(open(json_path))\n",
        "    cat = js.get('action')[0]\n",
        "    \n",
        "    image_paths = glob(train_folder + '/*.png')\n",
        "\n",
        "    for image_path in image_paths:\n",
        "      image_id = int(image_path.split('/')[-1].split('.')[0])\n",
        "      if os.path.exists(os.path.join(retrain_path,str(cat)) + '/image_id' + '.png') == False: shutil.copy(image_path, os.path.join(retrain_path,str(cat)))"
      ],
      "execution_count": null,
      "outputs": []
    },
    {
      "cell_type": "code",
      "metadata": {
        "colab": {
          "base_uri": "https://localhost:8080/"
        },
        "id": "FQDSpDFMZcJ6",
        "outputId": "54dc6608-1c74-41d7-8f05-ada509c91aaf"
      },
      "source": [
        "image_datasets"
      ],
      "execution_count": null,
      "outputs": [
        {
          "data": {
            "text/plain": [
              "{'retrain': Dataset ImageFolder\n",
              "     Number of datapoints: 1559\n",
              "     Root location: /content/drive/MyDrive/dacon/retrain\n",
              "     StandardTransform\n",
              " Transform: Compose(\n",
              "                RandomResizedCrop(size=(256, 256), scale=(0.8, 1.0), ratio=(0.75, 1.3333), interpolation=bilinear)\n",
              "                RandomRotation(degrees=[-15.0, 15.0], interpolation=nearest, expand=False, fill=0)\n",
              "                RandomHorizontalFlip(p=0.5)\n",
              "                CenterCrop(size=(224, 224))\n",
              "                ToTensor()\n",
              "                Normalize(mean=[0.485, 0.456, 0.406], std=[0.229, 0.224, 0.225])\n",
              "            ), 'test': Dataset ImageFolder\n",
              "     Number of datapoints: 2038\n",
              "     Root location: /content/drive/MyDrive/dacon/test\n",
              "     StandardTransform\n",
              " Transform: Compose(\n",
              "                Resize(size=256, interpolation=bilinear, max_size=None, antialias=None)\n",
              "                CenterCrop(size=(224, 224))\n",
              "                ToTensor()\n",
              "                Normalize(mean=[0.485, 0.456, 0.406], std=[0.229, 0.224, 0.225])\n",
              "            )}"
            ]
          },
          "execution_count": 76,
          "metadata": {},
          "output_type": "execute_result"
        }
      ]
    },
    {
      "cell_type": "code",
      "metadata": {
        "colab": {
          "base_uri": "https://localhost:8080/",
          "height": 419
        },
        "id": "AH7o96XRRUV1",
        "outputId": "d6cf4dea-e969-4178-a5ae-ba7ab3588822"
      },
      "source": [
        "tanswers = []\n",
        "timg = 0\n",
        "\n",
        "for test_folder in test_folders :\n",
        "    tjson_path = glob(test_folder + '/*.json')[0]\n",
        "    tjs = json.load(open(tjson_path))\n",
        "    tcat = tjs.get('annotations')[0].get('image_id')\n",
        "    timg_path = glob(test_folder + '/*.png')\n",
        "    timg += len(timg_path)\n",
        "    tanswers.append([test_folder.replace(data_path,''),tcat,timg])\n",
        "\n",
        "tanswers = pd.DataFrame(tanswers, columns = ['train_path','answer','num'])\n",
        "tanswers # 217 rows × 2 columns"
      ],
      "execution_count": null,
      "outputs": [
        {
          "data": {
            "text/html": [
              "<div>\n",
              "<style scoped>\n",
              "    .dataframe tbody tr th:only-of-type {\n",
              "        vertical-align: middle;\n",
              "    }\n",
              "\n",
              "    .dataframe tbody tr th {\n",
              "        vertical-align: top;\n",
              "    }\n",
              "\n",
              "    .dataframe thead th {\n",
              "        text-align: right;\n",
              "    }\n",
              "</style>\n",
              "<table border=\"1\" class=\"dataframe\">\n",
              "  <thead>\n",
              "    <tr style=\"text-align: right;\">\n",
              "      <th></th>\n",
              "      <th>train_path</th>\n",
              "      <th>answer</th>\n",
              "      <th>num</th>\n",
              "    </tr>\n",
              "  </thead>\n",
              "  <tbody>\n",
              "    <tr>\n",
              "      <th>0</th>\n",
              "      <td>/test/649</td>\n",
              "      <td>0</td>\n",
              "      <td>7</td>\n",
              "    </tr>\n",
              "    <tr>\n",
              "      <th>1</th>\n",
              "      <td>/test/650</td>\n",
              "      <td>0</td>\n",
              "      <td>17</td>\n",
              "    </tr>\n",
              "    <tr>\n",
              "      <th>2</th>\n",
              "      <td>/test/651</td>\n",
              "      <td>0</td>\n",
              "      <td>27</td>\n",
              "    </tr>\n",
              "    <tr>\n",
              "      <th>3</th>\n",
              "      <td>/test/652</td>\n",
              "      <td>0</td>\n",
              "      <td>37</td>\n",
              "    </tr>\n",
              "    <tr>\n",
              "      <th>4</th>\n",
              "      <td>/test/653</td>\n",
              "      <td>0</td>\n",
              "      <td>47</td>\n",
              "    </tr>\n",
              "    <tr>\n",
              "      <th>...</th>\n",
              "      <td>...</td>\n",
              "      <td>...</td>\n",
              "      <td>...</td>\n",
              "    </tr>\n",
              "    <tr>\n",
              "      <th>212</th>\n",
              "      <td>/test/861</td>\n",
              "      <td>0</td>\n",
              "      <td>1998</td>\n",
              "    </tr>\n",
              "    <tr>\n",
              "      <th>213</th>\n",
              "      <td>/test/862</td>\n",
              "      <td>0</td>\n",
              "      <td>2008</td>\n",
              "    </tr>\n",
              "    <tr>\n",
              "      <th>214</th>\n",
              "      <td>/test/863</td>\n",
              "      <td>0</td>\n",
              "      <td>2018</td>\n",
              "    </tr>\n",
              "    <tr>\n",
              "      <th>215</th>\n",
              "      <td>/test/864</td>\n",
              "      <td>0</td>\n",
              "      <td>2028</td>\n",
              "    </tr>\n",
              "    <tr>\n",
              "      <th>216</th>\n",
              "      <td>/test/865</td>\n",
              "      <td>0</td>\n",
              "      <td>2038</td>\n",
              "    </tr>\n",
              "  </tbody>\n",
              "</table>\n",
              "<p>217 rows × 3 columns</p>\n",
              "</div>"
            ],
            "text/plain": [
              "    train_path  answer   num\n",
              "0    /test/649       0     7\n",
              "1    /test/650       0    17\n",
              "2    /test/651       0    27\n",
              "3    /test/652       0    37\n",
              "4    /test/653       0    47\n",
              "..         ...     ...   ...\n",
              "212  /test/861       0  1998\n",
              "213  /test/862       0  2008\n",
              "214  /test/863       0  2018\n",
              "215  /test/864       0  2028\n",
              "216  /test/865       0  2038\n",
              "\n",
              "[217 rows x 3 columns]"
            ]
          },
          "execution_count": 12,
          "metadata": {},
          "output_type": "execute_result"
        }
      ]
    },
    {
      "cell_type": "code",
      "metadata": {
        "id": "DWq1LYFZaSUh"
      },
      "source": [
        "x = []\n",
        "x_len = 0\n",
        "y = []\n",
        "y_len = 0\n",
        "\n",
        "for (x_test, y_test) in dataloaders['test']:\n",
        "  #print(\"\\n\",x_test.size())\n",
        "  #print(y_test.size())\n",
        "  #break\n",
        "  x.append(x_test)\n",
        "  y.append(y_test)\n",
        "  x_len += len(x_test)\n",
        "  y_len += len(y_test)"
      ],
      "execution_count": null,
      "outputs": []
    },
    {
      "cell_type": "code",
      "metadata": {
        "colab": {
          "base_uri": "https://localhost:8080/"
        },
        "id": "LnLrmc5JC5iX",
        "outputId": "57bfc3f6-d452-47c3-bfc6-542d19a40b1b"
      },
      "source": [
        "idx_to_class = {v: k for k, v in image_datasets['test'].class_to_idx.items()} # class_to_idx 는 데이터 셋의 클래스 매핑 레이블을 반환\n",
        "print(idx_to_class)"
      ],
      "execution_count": null,
      "outputs": [
        {
          "name": "stdout",
          "output_type": "stream",
          "text": [
            "{0: '649', 1: '650', 2: '651', 3: '652', 4: '653', 5: '654', 6: '655', 7: '656', 8: '657', 9: '658', 10: '659', 11: '660', 12: '661', 13: '662', 14: '663', 15: '664', 16: '665', 17: '666', 18: '667', 19: '668', 20: '669', 21: '670', 22: '671', 23: '672', 24: '673', 25: '674', 26: '675', 27: '676', 28: '677', 29: '678', 30: '679', 31: '680', 32: '681', 33: '682', 34: '683', 35: '684', 36: '685', 37: '686', 38: '687', 39: '688', 40: '689', 41: '690', 42: '691', 43: '692', 44: '693', 45: '694', 46: '695', 47: '696', 48: '697', 49: '698', 50: '699', 51: '700', 52: '701', 53: '702', 54: '703', 55: '704', 56: '705', 57: '706', 58: '707', 59: '708', 60: '709', 61: '710', 62: '711', 63: '712', 64: '713', 65: '714', 66: '715', 67: '716', 68: '717', 69: '718', 70: '719', 71: '720', 72: '721', 73: '722', 74: '723', 75: '724', 76: '725', 77: '726', 78: '727', 79: '728', 80: '729', 81: '730', 82: '731', 83: '732', 84: '733', 85: '734', 86: '735', 87: '736', 88: '737', 89: '738', 90: '739', 91: '740', 92: '741', 93: '742', 94: '743', 95: '744', 96: '745', 97: '746', 98: '747', 99: '748', 100: '749', 101: '750', 102: '751', 103: '752', 104: '753', 105: '754', 106: '755', 107: '756', 108: '757', 109: '758', 110: '759', 111: '760', 112: '761', 113: '762', 114: '763', 115: '764', 116: '765', 117: '766', 118: '767', 119: '768', 120: '769', 121: '770', 122: '771', 123: '772', 124: '773', 125: '774', 126: '775', 127: '776', 128: '777', 129: '778', 130: '779', 131: '780', 132: '781', 133: '782', 134: '783', 135: '784', 136: '785', 137: '786', 138: '787', 139: '788', 140: '789', 141: '790', 142: '791', 143: '792', 144: '793', 145: '794', 146: '795', 147: '796', 148: '797', 149: '798', 150: '799', 151: '800', 152: '801', 153: '802', 154: '803', 155: '804', 156: '805', 157: '806', 158: '807', 159: '808', 160: '809', 161: '810', 162: '811', 163: '812', 164: '813', 165: '814', 166: '815', 167: '816', 168: '817', 169: '818', 170: '819', 171: '820', 172: '821', 173: '822', 174: '823', 175: '824', 176: '825', 177: '826', 178: '827', 179: '828', 180: '829', 181: '830', 182: '831', 183: '832', 184: '833', 185: '834', 186: '835', 187: '836', 188: '837', 189: '838', 190: '839', 191: '840', 192: '841', 193: '842', 194: '843', 195: '844', 196: '845', 197: '846', 198: '847', 199: '848', 200: '849', 201: '850', 202: '851', 203: '852', 204: '853', 205: '854', 206: '855', 207: '856', 208: '857', 209: '858', 210: '859', 211: '860', 212: '861', 213: '862', 214: '863', 215: '864', 216: '865'}\n"
          ]
        }
      ]
    },
    {
      "cell_type": "code",
      "metadata": {
        "colab": {
          "base_uri": "https://localhost:8080/"
        },
        "id": "_FpmLKVdgxsX",
        "outputId": "b4037f20-df5d-4b3d-9470-7e5e009c4ce3"
      },
      "source": [
        "print(len(x),len(x[-1]),len(y),len(y[-1]),x_len,y_len) # 32 개씩"
      ],
      "execution_count": null,
      "outputs": [
        {
          "name": "stdout",
          "output_type": "stream",
          "text": [
            "64 22 64 22 2038 2038\n"
          ]
        }
      ]
    },
    {
      "cell_type": "code",
      "metadata": {
        "colab": {
          "base_uri": "https://localhost:8080/"
        },
        "id": "4E0VV7IB630t",
        "outputId": "f567c61f-9c17-4c2c-879d-d5fd3a125b8b"
      },
      "source": [
        "print(y[:4],\"\\n\",y[-1])"
      ],
      "execution_count": null,
      "outputs": [
        {
          "name": "stdout",
          "output_type": "stream",
          "text": [
            "[tensor([ 40, 175,  47,  51,  86,   1, 110,  74,  87,  45, 165,  19,  22, 154,\n",
            "        153, 160,  10, 127,  38, 209,  29,  79,  28, 137, 100,  37,  10, 165,\n",
            "         66, 118,  13, 157]), tensor([105, 185, 131,  35,  45, 140,  86,  74, 197,  37,   6, 137, 119, 165,\n",
            "         55, 209, 191,  70, 211, 208,  66,  32, 135,  85,  34, 101,  79, 111,\n",
            "        104,  39,   0,   5]), tensor([ 12, 155, 207,  68, 126, 175, 111,  84, 112,  99,  85, 216,  73, 125,\n",
            "        148,  97, 166, 181, 202, 197,  43, 133, 182,   3, 176, 182,  68, 109,\n",
            "         32,  84, 186, 158]), tensor([174, 179, 166, 173,   7, 115,  81, 111, 147, 149, 106, 107, 189, 158,\n",
            "         87,  24, 134,   1, 108,  17, 101, 167,  45,  35,  90, 210,  57,  66,\n",
            "        145, 135, 216,  63])] \n",
            " tensor([ 29,  36, 126,  33, 195,  95, 113,  39, 149, 140, 104,  48,  65, 133,\n",
            "         34, 161, 119, 190,  69,  62,  73,  43])\n"
          ]
        }
      ]
    },
    {
      "cell_type": "code",
      "metadata": {
        "id": "C3xGStigqhBd"
      },
      "source": [
        "r = retrain_path + '/13/2.png'\n",
        "os.remove(r)"
      ],
      "execution_count": null,
      "outputs": []
    },
    {
      "cell_type": "markdown",
      "metadata": {
        "id": "dHgcKV1Qh9uC"
      },
      "source": [
        "#  "
      ]
    },
    {
      "cell_type": "markdown",
      "metadata": {
        "id": "h8FnSiUGw8Ui"
      },
      "source": [
        "# Custom net  "
      ]
    },
    {
      "cell_type": "code",
      "metadata": {
        "id": "pBz1mzkG2ZJ0"
      },
      "source": [
        "class CustomImageDataset():\n",
        "    def __init__(self,data_path, targets, transform):\n",
        "        self.data_path = data_path\n",
        "        self.img_labels = targets\n",
        "        self.transform = transform\n",
        "\n",
        "    def __len__(self):\n",
        "        return len(self.images)\n",
        "\n",
        "    def __getitem__(self,idx):\n",
        "        train_path = os.path.join(self.data_path, \"train\")\n",
        "        img_path = glob(train_path + '/*.png')[0]\n",
        "        image = Image.open(img_path)\n",
        "        label = self.img_labels\n",
        "        image = self.transform(image)\n",
        "        return image, label\n",
        "\n",
        "customdataset = CustomImageDataset(data_path,targets,image_transforms['train'])\n",
        "dataloader = torch.utils.data.DataLoader(customdataset,batch_size = 32)"
      ],
      "execution_count": null,
      "outputs": []
    },
    {
      "cell_type": "markdown",
      "metadata": {
        "id": "6ZEEfZ4hw_ET"
      },
      "source": [
        "#  "
      ]
    },
    {
      "cell_type": "markdown",
      "metadata": {
        "id": "qivf0JIWWghg"
      },
      "source": [
        "#  "
      ]
    },
    {
      "cell_type": "markdown",
      "metadata": {
        "id": "9Bruw17HOmRt"
      },
      "source": [
        "#  "
      ]
    }
  ]
}