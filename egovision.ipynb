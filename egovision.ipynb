{
  "nbformat": 4,
  "nbformat_minor": 0,
  "metadata": {
    "accelerator": "GPU",
    "colab": {
      "name": "egovision.ipynb",
      "provenance": [],
      "collapsed_sections": [
        "k22hWTPctlI0",
        "oMwiA8Nftola",
        "yjtclUgktYNJ",
        "Regg_PLHu5q9",
        "X2oxYBboh_dK",
        "h8FnSiUGw8Ui"
      ],
      "mount_file_id": "1hHUwwCgf4AO1qI1ntupfYepYq4EetJp2",
      "authorship_tag": "ABX9TyNyz2zzOEswMOisXRER/BjF",
      "include_colab_link": true
    },
    "kernelspec": {
      "display_name": "Python 3",
      "name": "python3"
    },
    "language_info": {
      "name": "python"
    }
  },
  "cells": [
    {
      "cell_type": "markdown",
      "metadata": {
        "id": "view-in-github",
        "colab_type": "text"
      },
      "source": [
        "<a href=\"https://colab.research.google.com/github/dkssud8150/dacon-egovision/blob/main/egovision.ipynb\" target=\"_parent\"><img src=\"https://colab.research.google.com/assets/colab-badge.svg\" alt=\"Open In Colab\"/></a>"
      ]
    },
    {
      "cell_type": "code",
      "metadata": {
        "colab": {
          "base_uri": "https://localhost:8080/"
        },
        "id": "rDaqpvGGoWeo",
        "outputId": "1206e1f9-edc8-40cf-f0fb-491bec7ff95e"
      },
      "source": [
        "# 데이터 보기\n",
        "import pandas as pd\n",
        "import numpy as np\n",
        "from glob import glob\n",
        "\n",
        "# torch\n",
        "import torch\n",
        "import torch.nn as nn\n",
        "import torch.nn.functional as F\n",
        "from torchvision import transforms, datasets\n",
        "from torch.utils.data import Dataset, ConcatDataset, Sampler, RandomSampler, BatchSampler\n",
        "\n",
        "# 이미지데이터 로딩\n",
        "from PIL import Image\n",
        "import cv2\n",
        "from tqdm import tqdm\n",
        "\n",
        "# 파일경로 설정\n",
        "import os\n",
        "import shutil\n",
        "import json\n",
        "import PIL\n",
        "\n",
        "# GPU 환경 설정\n",
        "import os\n",
        "os.environ['CUDA_LAUNCH_BLOCKING'] = \"1\"\n",
        "os.environ[\"CUDA_VISIBLE_DEVICES\"] = \"0\"\n",
        "DEVICE = torch.device(\"cuda:0\" if torch.cuda.is_available() else \"cpu\")\n",
        "print(DEVICE)\n",
        "\n",
        "# warning\n",
        "import warnings\n",
        "warnings.filterwarnings(\"ignore\")\n",
        "warnings.simplefilter('ignore')\n",
        "import matplotlib.pyplot as plt"
      ],
      "execution_count": null,
      "outputs": [
        {
          "output_type": "stream",
          "name": "stdout",
          "text": [
            "cuda:0\n"
          ]
        }
      ]
    },
    {
      "cell_type": "markdown",
      "metadata": {
        "id": "p9v3rFretVBN"
      },
      "source": [
        "# Sample data"
      ]
    },
    {
      "cell_type": "code",
      "metadata": {
        "id": "I327D2NjokNw"
      },
      "source": [
        "data_path = '/content/drive/MyDrive/dacon'\n",
        "\n",
        "\n",
        "train_path = data_path + '/train'\n",
        "test_path = data_path + '/test'\n",
        "retrain_path = data_path + '/retrain'\n",
        "\n",
        "hand_gesture = pd.read_csv(data_path + '/hand_gesture_pose.csv')\n",
        "sample_submission = pd.read_csv(data_path + '/sample_submission.csv')"
      ],
      "execution_count": null,
      "outputs": []
    },
    {
      "cell_type": "markdown",
      "metadata": {
        "id": "05sZpkpptfhF"
      },
      "source": [
        "### train 폴더 데이터 확인"
      ]
    },
    {
      "cell_type": "code",
      "metadata": {
        "colab": {
          "base_uri": "https://localhost:8080/"
        },
        "id": "vmulII32oqOv",
        "outputId": "c6677d91-e006-46b4-b987-000bf3da5209"
      },
      "source": [
        "train_folders = sorted(glob(train_path + '/*'), key = lambda x : int(x.split('/')[-1]))\n",
        "test_folders  = sorted(glob(test_path + '/*'), key = lambda x : int(x.split('/')[-1]))\n",
        "train_folders[:5]"
      ],
      "execution_count": null,
      "outputs": [
        {
          "output_type": "execute_result",
          "data": {
            "text/plain": [
              "['/content/drive/MyDrive/dacon/train/0',\n",
              " '/content/drive/MyDrive/dacon/train/1',\n",
              " '/content/drive/MyDrive/dacon/train/2',\n",
              " '/content/drive/MyDrive/dacon/train/3',\n",
              " '/content/drive/MyDrive/dacon/train/4']"
            ]
          },
          "metadata": {},
          "execution_count": 5
        }
      ]
    },
    {
      "cell_type": "markdown",
      "metadata": {
        "id": "k22hWTPctlI0"
      },
      "source": [
        "### 1개를 열어 확인"
      ]
    },
    {
      "cell_type": "code",
      "metadata": {
        "colab": {
          "base_uri": "https://localhost:8080/"
        },
        "id": "GGSUNgh9pfcY",
        "outputId": "6c5c55c9-26f7-4cb1-b5d0-13214b26cf8b"
      },
      "source": [
        "train_folder1 = train_folders[620]\n",
        "train_folder1"
      ],
      "execution_count": null,
      "outputs": [
        {
          "data": {
            "application/vnd.google.colaboratory.intrinsic+json": {
              "type": "string"
            },
            "text/plain": [
              "'/content/drive/MyDrive/dacon/train/620'"
            ]
          },
          "execution_count": 129,
          "metadata": {},
          "output_type": "execute_result"
        }
      ]
    },
    {
      "cell_type": "code",
      "metadata": {
        "colab": {
          "base_uri": "https://localhost:8080/"
        },
        "id": "eyFy-s5bpfWp",
        "outputId": "43130d56-61ff-434a-defe-d343a666c56e"
      },
      "source": [
        "image_paths = sorted(glob(train_folder1 + '/*.png'), key = lambda x : int(x.split('/')[-1].replace('.png','')))\n",
        "image_path = image_paths[0]\n",
        "\n",
        "img = cv2.imread(image_path)\n",
        "img = cv2.cvtColor(img, cv2.COLOR_BGR2RGB)\n",
        "plt.imshow(img)\n",
        "plt.show()"
      ],
      "execution_count": null,
      "outputs": [
        {
          "data": {
            "image/png": "[encoded data removed]",
            "text/plain": [
              "<Figure size 432x288 with 1 Axes>"
            ]
          },
          "metadata": {},
          "output_type": "display_data"
        }
      ]
    },
    {
      "cell_type": "markdown",
      "metadata": {
        "id": "oMwiA8Nftola"
      },
      "source": [
        "### 메타데이터 정보 확인\n",
        "\n",
        "* action(행동 정보) \n",
        "  * 손동작 label\n",
        "  * 손동작 한글 이름\n",
        "* actor(배우 정보)\n",
        "  * 성별\n",
        "  * 나이\n",
        "  * 키\n",
        "* id(파일 경로)\n",
        "* annotations (주석 정보)\n",
        "  * image_id : 이미지 번호\n",
        "  * data : 키포인트 정보"
      ]
    },
    {
      "cell_type": "code",
      "metadata": {
        "colab": {
          "base_uri": "https://localhost:8080/"
        },
        "id": "UD1_p4Pfq7if",
        "outputId": "7f23bd33-b43a-4cd8-f1f1-48119abc6eeb"
      },
      "source": [
        "json_path   = glob(train_folder1 + '/*.json')[0]\n",
        "js = json.load(open(json_path))\n",
        "\n",
        "print(\"json keys                : \",js.keys())\n",
        "print(\"json action info         : \",js.get('action'))\n",
        "print(\"json actor info          : \",js.get('actor'))\n",
        "print(\"json id info             : \",js.get('id'))                             # train/id\n",
        "print(\"json annotations keys    : \",js.get('annotations')[0].keys())\n",
        "print(\"json annotations sample  : \",js.get('annotations')[0].get('image_id')) # train/id/image_id.png \n",
        "print(\"json annotations sample  : \",js.get('annotations')[0].get('data'))     # train/id/image_id.png 의 kep point"
      ],
      "execution_count": null,
      "outputs": [
        {
          "name": "stdout",
          "output_type": "stream",
          "text": [
            "json keys                :  dict_keys(['action', 'actor', 'id', 'annotations'])\n",
            "json action info         :  [186, '큰하트']\n",
            "json actor info          :  None\n",
            "json id info             :  620\n",
            "json annotations keys    :  dict_keys(['image_id', 'data'])\n",
            "json annotations sample  :  0\n",
            "json annotations sample  :  [[778.8010025024414, 483.245530128479, 0.051133594242855906], [832.6738357543945, 483.5382342338562, -17.841750383377075], [885.1345825195312, 457.77312755584717, -38.91024827957153], [931.4473342895508, 445.48444747924805, -67.60226726531982], [970.7613372802734, 440.5976343154907, -106.07502222061157], [874.0076637268066, 362.117657661438, -42.74148344993591], [918.4812355041504, 309.1277861595154, -96.67551040649414], [948.4206390380859, 314.3676209449768, -135.9917449951172], [965.0771713256836, 335.799458026886, -156.66542530059814], [841.5545654296875, 346.7590606212616, -69.53418016433716], [858.2997894287109, 264.18798565864563, -109.51632499694824], [875.1610565185547, 212.79398560523987, -143.81951808929443], [886.3566970825195, 168.81675481796265, -166.34167671203613], [804.0524482727051, 355.7014060020447, -99.03463125228882], [803.6655807495117, 279.6021366119385, -144.27453517913818], [806.5407943725586, 230.2005136013031, -178.78729820251465], [805.015983581543, 182.97899544239044, -199.9374532699585], [768.3917999267578, 380.9354031085968, -127.63173580169678], [735.7642936706543, 331.5320098400116, -166.9714879989624], [713.9525413513184, 293.6090934276581, -184.5686960220337], [693.7724304199219, 251.74275040626526, -193.14841747283936], [1207.3713684082031, 435.106326341629, -0.06741345394402742], [1138.835220336914, 433.6759901046753, -13.216310441493988], [1092.0603561401367, 426.556077003479, -41.45956993103027], [1051.0811233520508, 425.60123205184937, -76.57512903213501], [1006.8549728393555, 434.58075284957886, -114.01762962341309], [1091.6851043701172, 327.20446944236755, -53.254244327545166], [1039.3347930908203, 287.86975622177124, -114.72005367279053], [1008.1994247436523, 304.1753125190735, -144.26012992858887], [986.4751052856445, 331.88010692596436, -154.040207862854], [1120.4455947875977, 309.37983870506287, -83.62622022628784], [1098.3159255981445, 227.1277642250061, -136.0036325454712], [1072.0841217041016, 180.9022092819214, -182.20069885253906], [1045.7528686523438, 143.33735167980194, -213.1653928756714], [1156.061782836914, 314.7091519832611, -111.67581796646118], [1155.102767944336, 230.6678456068039, -167.4687910079956], [1149.5210266113281, 179.2430591583252, -203.81481170654297], [1141.3453674316406, 139.33246493339539, -219.32766437530518], [1195.4742050170898, 332.67945885658264, -138.20584774017334], [1216.9644927978516, 272.2625184059143, -186.41255378723145], [1235.1569366455078, 230.90105295181274, -203.6962366104126], [1247.512550354004, 192.5164532661438, -209.78383541107178]]\n"
          ]
        }
      ]
    },
    {
      "cell_type": "markdown",
      "metadata": {
        "id": "yjtclUgktYNJ"
      },
      "source": [
        "## answer loading"
      ]
    },
    {
      "cell_type": "code",
      "metadata": {
        "colab": {
          "base_uri": "https://localhost:8080/",
          "height": 419
        },
        "id": "dPg6BqF7tQei",
        "outputId": "3234e753-d78c-480a-b243-846bcef3791e"
      },
      "source": [
        "answers = []\n",
        "for train_folder in train_folders :\n",
        "    json_path = glob(train_folder + '/*.json')[0]\n",
        "    js = json.load(open(json_path))\n",
        "    cat = js.get('action')[0]\n",
        "    cat_name = js.get('action')[1]\n",
        "    answers.append([train_folder.replace(data_path,''),cat, cat_name])\n",
        "\n",
        "answers = pd.DataFrame(answers, columns = ['train_path','answer', 'answer_name'])\n",
        "classes = pd.get_dummies(answers[['answer']], columns = ['answer']).to_numpy()\n",
        "aswname = pd.get_dummies(answers[['answer_name']], columns = ['answer_name']).to_numpy()\n",
        "\n",
        "answers\n",
        "#classes.shape[1]\n",
        "#answers['answer'].unique()"
      ],
      "execution_count": null,
      "outputs": [
        {
          "output_type": "execute_result",
          "data": {
            "text/html": [
              "<div>\n",
              "<style scoped>\n",
              "    .dataframe tbody tr th:only-of-type {\n",
              "        vertical-align: middle;\n",
              "    }\n",
              "\n",
              "    .dataframe tbody tr th {\n",
              "        vertical-align: top;\n",
              "    }\n",
              "\n",
              "    .dataframe thead th {\n",
              "        text-align: right;\n",
              "    }\n",
              "</style>\n",
              "<table border=\"1\" class=\"dataframe\">\n",
              "  <thead>\n",
              "    <tr style=\"text-align: right;\">\n",
              "      <th></th>\n",
              "      <th>train_path</th>\n",
              "      <th>answer</th>\n",
              "      <th>answer_name</th>\n",
              "    </tr>\n",
              "  </thead>\n",
              "  <tbody>\n",
              "    <tr>\n",
              "      <th>0</th>\n",
              "      <td>/train/0</td>\n",
              "      <td>0</td>\n",
              "      <td>숫자 1</td>\n",
              "    </tr>\n",
              "    <tr>\n",
              "      <th>1</th>\n",
              "      <td>/train/1</td>\n",
              "      <td>0</td>\n",
              "      <td>숫자 1</td>\n",
              "    </tr>\n",
              "    <tr>\n",
              "      <th>2</th>\n",
              "      <td>/train/2</td>\n",
              "      <td>10</td>\n",
              "      <td>숫자 1</td>\n",
              "    </tr>\n",
              "    <tr>\n",
              "      <th>3</th>\n",
              "      <td>/train/3</td>\n",
              "      <td>10</td>\n",
              "      <td>숫자 1</td>\n",
              "    </tr>\n",
              "    <tr>\n",
              "      <th>4</th>\n",
              "      <td>/train/4</td>\n",
              "      <td>10</td>\n",
              "      <td>숫자 1</td>\n",
              "    </tr>\n",
              "    <tr>\n",
              "      <th>...</th>\n",
              "      <td>...</td>\n",
              "      <td>...</td>\n",
              "      <td>...</td>\n",
              "    </tr>\n",
              "    <tr>\n",
              "      <th>644</th>\n",
              "      <td>/train/644</td>\n",
              "      <td>194</td>\n",
              "      <td>빅토리</td>\n",
              "    </tr>\n",
              "    <tr>\n",
              "      <th>645</th>\n",
              "      <td>/train/645</td>\n",
              "      <td>195</td>\n",
              "      <td>부정(엄지손 아래로)</td>\n",
              "    </tr>\n",
              "    <tr>\n",
              "      <th>646</th>\n",
              "      <td>/train/646</td>\n",
              "      <td>195</td>\n",
              "      <td>부정(엄지손 아래로)</td>\n",
              "    </tr>\n",
              "    <tr>\n",
              "      <th>647</th>\n",
              "      <td>/train/647</td>\n",
              "      <td>195</td>\n",
              "      <td>부정(엄지손 아래로)</td>\n",
              "    </tr>\n",
              "    <tr>\n",
              "      <th>648</th>\n",
              "      <td>/train/648</td>\n",
              "      <td>195</td>\n",
              "      <td>부정(엄지손 아래로)</td>\n",
              "    </tr>\n",
              "  </tbody>\n",
              "</table>\n",
              "<p>649 rows × 3 columns</p>\n",
              "</div>"
            ],
            "text/plain": [
              "     train_path  answer  answer_name\n",
              "0      /train/0       0         숫자 1\n",
              "1      /train/1       0         숫자 1\n",
              "2      /train/2      10         숫자 1\n",
              "3      /train/3      10         숫자 1\n",
              "4      /train/4      10         숫자 1\n",
              "..          ...     ...          ...\n",
              "644  /train/644     194          빅토리\n",
              "645  /train/645     195  부정(엄지손 아래로)\n",
              "646  /train/646     195  부정(엄지손 아래로)\n",
              "647  /train/647     195  부정(엄지손 아래로)\n",
              "648  /train/648     195  부정(엄지손 아래로)\n",
              "\n",
              "[649 rows x 3 columns]"
            ]
          },
          "metadata": {},
          "execution_count": 5
        }
      ]
    },
    {
      "cell_type": "markdown",
      "metadata": {
        "id": "rXRGpK-4uMhY"
      },
      "source": [
        "# preprocessing"
      ]
    },
    {
      "cell_type": "code",
      "metadata": {
        "id": "tHh10uhs6mc5"
      },
      "source": [
        "BATCH_SIZE = 32\n",
        "\n",
        "image_transforms = { \n",
        "    'retrain': transforms.Compose([\n",
        "        transforms.RandomResizedCrop(size=256, scale=(0.8, 1.0)), # 랜덤 크기로 자른 후 잘라낸 이미지의 크기는 256x256로 조정\n",
        "        transforms.RandomRotation(degrees=15),                    # 영상을 -15~15도 범위에서 랜덤 각도로 회전\n",
        "        transforms.RandomHorizontalFlip(),                        # 50% 확률로 이미지를 수평으로 랜덤하게 뒤집는다.\n",
        "        transforms.CenterCrop(size=224),                          # 중앙에서 224x224 이미지를 자른다.\n",
        "        transforms.ToTensor(),\n",
        "        transforms.Normalize([0.485, 0.456, 0.406],\n",
        "                             [0.229, 0.224, 0.225])               # 3채널 tensor을 취하며 각 채널의 입력 평균과 표준 편차로 각 채널을 정규화\n",
        "    ]),\n",
        "    'test': transforms.Compose([\n",
        "        transforms.Resize(size=256),\n",
        "        transforms.CenterCrop(size=224),\n",
        "        transforms.ToTensor(),\n",
        "        transforms.Normalize([0.485, 0.456, 0.406],\n",
        "                             [0.229, 0.224, 0.225])\n",
        "    ])\n",
        "}\n",
        "\n",
        "#split train val \n",
        "\n",
        "image_datasets = {x: datasets.ImageFolder(os.path.join(data_path,x),                        # 이미지 데이터를 불러오는 것을 의미. ../data/hymenoptera_data 위치에 접근해 train 폴더와 val 폴더에 접근해 데이터를 불러온다. \n",
        "                                          image_transforms[x]) for x in ['retrain', 'test']}  # 기존 정의한 data_transforms의 학습 데이터셋에 이용되는 전처리 과정, 검증 데이터셋에 이용되는 전처리 과정을 각각 적용하는 것\n",
        "dataloaders = {x: torch.utils.data.DataLoader(image_datasets[x],                            # 불러온 이미지를 mini-batch 단위로 구분하기 위해 utils.data.dataloader 함수를 이용. 각각 적용하기 위해 dictionary 구조를 사용\n",
        "                                              batch_size = BATCH_SIZE,                      # mini-batch를 구성하는 데이터 개수는 기존에 정의한 batch-size로 설정\n",
        "                                              num_workers = 0,                              # num_workers = 0 은 처리하는 프로세싱에 관련된 내용이며 멀티 프로세싱으로 진행하지 않는 한 0으로 기본값을 이용. \n",
        "                                                                                            # 프로세스를 동시에 처리하는 개수만큼 num_workers를 지정\n",
        "                                              shuffle = True) for x in ['retrain', 'test']}   # 데이터 순서를 섞는 의미로 shuffle = true \n"
      ],
      "execution_count": null,
      "outputs": []
    },
    {
      "cell_type": "markdown",
      "metadata": {
        "id": "dqiYNZX0vUq-"
      },
      "source": [
        "# Modeling"
      ]
    },
    {
      "cell_type": "code",
      "metadata": {
        "id": "wa7KZgth6r4A"
      },
      "source": [
        "''' 6. 불러온 특정 모델에 대하여 학습을 진행하며 학습 데이터에 대한 모델 성능을 확인하는 함수 정의 '''\n",
        "def train(model, train_loader, optimizer, log_interval):\n",
        "    model.train()\n",
        "    for batch_idx, (image, label) in enumerate(train_loader):\n",
        "        image = image.to(DEVICE)\n",
        "        label = label.to(DEVICE)\n",
        "        optimizer.zero_grad()\n",
        "        output = model(image)\n",
        "        loss = criterion(output, label)\n",
        "        loss.backward()\n",
        "        optimizer.step()\n",
        "\n",
        "        if batch_idx % log_interval == 0:\n",
        "          print(\"\\ntrain epoch: {} [{}/{}({:.0f}%]\\tTrain Loss: {:.6f}\".format(epoch,batch_idx * len(image),len(train_loader.dataset),100.*batch_idx / len(train_loader),loss.item()))\n",
        "\n",
        "def evaluate(model, test_loader):\n",
        "    model.eval()\n",
        "    test_loss = 0\n",
        "    correct = 0\n",
        "\n",
        "    with torch.no_grad():                                                                   # 평가에서는 gradient를 통해 파라미터 값이 업데이트되는 현상을 방지하기 위해 no.grad 메서드를 이용해 gradient의 흐름을 억제\n",
        "        for image, label in test_loader:\n",
        "            image = image.to(DEVICE)\n",
        "            label = label.to(DEVICE)\n",
        "            output = model(image)\n",
        "            prediction = output.max(1, keepdim = True)[1]\n",
        "            correct += prediction.eq(label.view_as(prediction)).sum().item()\n",
        "    \n",
        "    test_loss /= (len(test_loader.dataset) / BATCH_SIZE)\n",
        "    test_accuracy = 100. * correct / len(test_loader.dataset)\n",
        "    return test_loss, test_accuracy"
      ],
      "execution_count": null,
      "outputs": []
    },
    {
      "cell_type": "code",
      "metadata": {
        "id": "0WnzZUlnVRHd"
      },
      "source": [
        "''' 8. PyTorch 내에서 제공하는 미리 학습되지 않은 ResNet18 모델 불러온 후 Output 크기 설정하기 '''\n",
        "import torchvision.models as models\n",
        "model = models.resnet18(pretrained = False).to(DEVICE)                                      # false는 모델의 구조만 불러오고 initailzer에서 랜덤으로 샘플링한 값을 이용해 모델\n",
        "                                                                                            \n",
        "num_ftrs = model.fc.in_features                                                             # model를 이용해 불러온 resnet34 모델에 대해 fully connected layer을 구성하고 있는 부분에 접근한다. in_features는 input에 해당하는 노드수를 지정\n",
        "model.fc = nn.Linear(num_ftrs, 157) # 157(classes.shape[1]), 217(answer row), 649(classes.shape[0])\n",
        "model = model.to(DEVICE)\n",
        "\n",
        "''' 9. Optimizer, Objective Function 설정하기 '''\n",
        "optimizer = torch.optim.Adam(model.parameters(), lr = 0.0001)                               \n",
        "criterion = nn.CrossEntropyLoss()                           "
      ],
      "execution_count": null,
      "outputs": []
    },
    {
      "cell_type": "code",
      "metadata": {
        "id": "IoUoUrc1KGju"
      },
      "source": [
        "print(model.in_features)"
      ],
      "execution_count": null,
      "outputs": []
    },
    {
      "cell_type": "code",
      "metadata": {
        "id": "3LsKyEB4VSyw"
      },
      "source": [
        "for epoch in tqdm(range(10)):                                                             # 학습을 진행할 때는 전체 데이터셋을 이용하는 횟수만큼 반복문을 실행\n",
        "  train(model, dataloaders['retrain'], optimizer, log_interval=200)                       # 정의한 train함수 실행. model은 기존에 정의한 모델, train_loader은 학습 데이터, optimizer은 adam, log_interval은 mini-batch의 index를 이용해 과정을 출력"
      ],
      "execution_count": null,
      "outputs": []
    },
    {
      "cell_type": "markdown",
      "metadata": {
        "id": "QdX_EELU7CKI"
      },
      "source": [
        "# Test function"
      ]
    },
    {
      "cell_type": "code",
      "metadata": {
        "id": "7YrTkDXd7z-J"
      },
      "source": [
        "predictions = []\n",
        "answers = []\n",
        "\n",
        "with torch.no_grad():\n",
        "  for test_folder in tqdm(test_folders):\n",
        "    with open(test_folder + '/{}.json'.format(test_folder.split('/')[-1]), 'r') as js:\n",
        "      temp = json.load(js)\n",
        "      imgs = []\n",
        "      for i in temp['annotations']:\n",
        "        image_path = test_folder + '/{}.png'.format(i['image_id'])\n",
        "        img = PIL.Image.open(image_path).convert('RGB')\n",
        "        img = image_transforms['test'](img)\n",
        "        imgs.append(img)\n",
        "\n",
        "      imgs = torch.stack(imgs).to(DEVICE)\n",
        "      \n",
        "      prediction = model(imgs)\n",
        "      prediction = torch.nn.Softmax(dim=1)(prediction)\n",
        "      prediction = torch.mean(prediction, dim=0)\n",
        "      \n",
        "      predictions.append(prediction.cpu().numpy())\n",
        "\n",
        "print(\"\\n\",len(predictions),len(predictions[0]))"
      ],
      "execution_count": null,
      "outputs": []
    },
    {
      "cell_type": "markdown",
      "metadata": {
        "id": "Y6m9T2m16uia"
      },
      "source": [
        "# sample submission"
      ]
    },
    {
      "cell_type": "code",
      "metadata": {
        "id": "1G5wgrhSvdI_",
        "colab": {
          "base_uri": "https://localhost:8080/",
          "height": 253
        },
        "outputId": "c9375b48-ed98-4bbf-fe56-874ce429290e"
      },
      "source": [
        "sample_submission.iloc[:,1:] = predictions\n",
        "display(sample_submission.head())\n",
        "sample_submission.to_csv('./submission.csv', index=False)"
      ],
      "execution_count": null,
      "outputs": [
        {
          "output_type": "display_data",
          "data": {
            "text/html": [
              "<div>\n",
              "<style scoped>\n",
              "    .dataframe tbody tr th:only-of-type {\n",
              "        vertical-align: middle;\n",
              "    }\n",
              "\n",
              "    .dataframe tbody tr th {\n",
              "        vertical-align: top;\n",
              "    }\n",
              "\n",
              "    .dataframe thead th {\n",
              "        text-align: right;\n",
              "    }\n",
              "</style>\n",
              "<table border=\"1\" class=\"dataframe\">\n",
              "  <thead>\n",
              "    <tr style=\"text-align: right;\">\n",
              "      <th></th>\n",
              "      <th>Image_Path</th>\n",
              "      <th>Label_0</th>\n",
              "      <th>Label_1</th>\n",
              "      <th>Label_2</th>\n",
              "      <th>Label_3</th>\n",
              "      <th>Label_4</th>\n",
              "      <th>Label_5</th>\n",
              "      <th>Label_6</th>\n",
              "      <th>Label_7</th>\n",
              "      <th>Label_8</th>\n",
              "      <th>Label_9</th>\n",
              "      <th>Label_10</th>\n",
              "      <th>Label_11</th>\n",
              "      <th>Label_12</th>\n",
              "      <th>Label_13</th>\n",
              "      <th>Label_14</th>\n",
              "      <th>Label_15</th>\n",
              "      <th>Label_16</th>\n",
              "      <th>Label_17</th>\n",
              "      <th>Label_18</th>\n",
              "      <th>Label_19</th>\n",
              "      <th>Label_22</th>\n",
              "      <th>Label_23</th>\n",
              "      <th>Label_25</th>\n",
              "      <th>Label_26</th>\n",
              "      <th>Label_27</th>\n",
              "      <th>Label_28</th>\n",
              "      <th>Label_29</th>\n",
              "      <th>Label_31</th>\n",
              "      <th>Label_32</th>\n",
              "      <th>Label_34</th>\n",
              "      <th>Label_35</th>\n",
              "      <th>Label_36</th>\n",
              "      <th>Label_37</th>\n",
              "      <th>Label_39</th>\n",
              "      <th>Label_40</th>\n",
              "      <th>Label_41</th>\n",
              "      <th>Label_42</th>\n",
              "      <th>Label_43</th>\n",
              "      <th>Label_44</th>\n",
              "      <th>...</th>\n",
              "      <th>Label_142</th>\n",
              "      <th>Label_143</th>\n",
              "      <th>Label_144</th>\n",
              "      <th>Label_145</th>\n",
              "      <th>Label_146</th>\n",
              "      <th>Label_147</th>\n",
              "      <th>Label_148</th>\n",
              "      <th>Label_149</th>\n",
              "      <th>Label_150</th>\n",
              "      <th>Label_151</th>\n",
              "      <th>Label_153</th>\n",
              "      <th>Label_154</th>\n",
              "      <th>Label_155</th>\n",
              "      <th>Label_156</th>\n",
              "      <th>Label_157</th>\n",
              "      <th>Label_158</th>\n",
              "      <th>Label_159</th>\n",
              "      <th>Label_160</th>\n",
              "      <th>Label_161</th>\n",
              "      <th>Label_162</th>\n",
              "      <th>Label_163</th>\n",
              "      <th>Label_165</th>\n",
              "      <th>Label_167</th>\n",
              "      <th>Label_168</th>\n",
              "      <th>Label_169</th>\n",
              "      <th>Label_171</th>\n",
              "      <th>Label_172</th>\n",
              "      <th>Label_173</th>\n",
              "      <th>Label_174</th>\n",
              "      <th>Label_175</th>\n",
              "      <th>Label_177</th>\n",
              "      <th>Label_186</th>\n",
              "      <th>Label_188</th>\n",
              "      <th>Label_189</th>\n",
              "      <th>Label_190</th>\n",
              "      <th>Label_191</th>\n",
              "      <th>Label_192</th>\n",
              "      <th>Label_193</th>\n",
              "      <th>Label_194</th>\n",
              "      <th>Label_195</th>\n",
              "    </tr>\n",
              "  </thead>\n",
              "  <tbody>\n",
              "    <tr>\n",
              "      <th>0</th>\n",
              "      <td>./test\\649</td>\n",
              "      <td>0.009395</td>\n",
              "      <td>0.007558</td>\n",
              "      <td>0.008259</td>\n",
              "      <td>0.005699</td>\n",
              "      <td>0.008128</td>\n",
              "      <td>0.011552</td>\n",
              "      <td>0.005111</td>\n",
              "      <td>0.004351</td>\n",
              "      <td>0.004073</td>\n",
              "      <td>0.006696</td>\n",
              "      <td>0.008275</td>\n",
              "      <td>0.009446</td>\n",
              "      <td>0.002983</td>\n",
              "      <td>0.008663</td>\n",
              "      <td>0.006179</td>\n",
              "      <td>0.003904</td>\n",
              "      <td>0.007657</td>\n",
              "      <td>0.005157</td>\n",
              "      <td>0.005138</td>\n",
              "      <td>0.002488</td>\n",
              "      <td>0.007380</td>\n",
              "      <td>0.003872</td>\n",
              "      <td>0.002851</td>\n",
              "      <td>0.005278</td>\n",
              "      <td>0.012294</td>\n",
              "      <td>0.010584</td>\n",
              "      <td>0.005355</td>\n",
              "      <td>0.008809</td>\n",
              "      <td>0.002843</td>\n",
              "      <td>0.004081</td>\n",
              "      <td>0.006394</td>\n",
              "      <td>0.004864</td>\n",
              "      <td>0.004350</td>\n",
              "      <td>0.002795</td>\n",
              "      <td>0.002623</td>\n",
              "      <td>0.008124</td>\n",
              "      <td>0.009250</td>\n",
              "      <td>0.010609</td>\n",
              "      <td>0.006102</td>\n",
              "      <td>...</td>\n",
              "      <td>0.003195</td>\n",
              "      <td>0.005448</td>\n",
              "      <td>0.004772</td>\n",
              "      <td>0.009322</td>\n",
              "      <td>0.004290</td>\n",
              "      <td>0.004296</td>\n",
              "      <td>0.003567</td>\n",
              "      <td>0.004550</td>\n",
              "      <td>0.011385</td>\n",
              "      <td>0.006055</td>\n",
              "      <td>0.004453</td>\n",
              "      <td>0.005133</td>\n",
              "      <td>0.009172</td>\n",
              "      <td>0.006895</td>\n",
              "      <td>0.007758</td>\n",
              "      <td>0.004392</td>\n",
              "      <td>0.009994</td>\n",
              "      <td>0.006576</td>\n",
              "      <td>0.003458</td>\n",
              "      <td>0.008553</td>\n",
              "      <td>0.008244</td>\n",
              "      <td>0.003474</td>\n",
              "      <td>0.010709</td>\n",
              "      <td>0.014482</td>\n",
              "      <td>0.007295</td>\n",
              "      <td>0.006263</td>\n",
              "      <td>0.009946</td>\n",
              "      <td>0.006603</td>\n",
              "      <td>0.010261</td>\n",
              "      <td>0.004035</td>\n",
              "      <td>0.003716</td>\n",
              "      <td>0.004413</td>\n",
              "      <td>0.004550</td>\n",
              "      <td>0.005000</td>\n",
              "      <td>0.004726</td>\n",
              "      <td>0.003018</td>\n",
              "      <td>0.005029</td>\n",
              "      <td>0.004541</td>\n",
              "      <td>0.004331</td>\n",
              "      <td>0.005185</td>\n",
              "    </tr>\n",
              "    <tr>\n",
              "      <th>1</th>\n",
              "      <td>./test\\650</td>\n",
              "      <td>0.009383</td>\n",
              "      <td>0.007577</td>\n",
              "      <td>0.007853</td>\n",
              "      <td>0.005696</td>\n",
              "      <td>0.008347</td>\n",
              "      <td>0.011630</td>\n",
              "      <td>0.005060</td>\n",
              "      <td>0.004373</td>\n",
              "      <td>0.004116</td>\n",
              "      <td>0.006767</td>\n",
              "      <td>0.007881</td>\n",
              "      <td>0.009563</td>\n",
              "      <td>0.003081</td>\n",
              "      <td>0.009044</td>\n",
              "      <td>0.006069</td>\n",
              "      <td>0.003761</td>\n",
              "      <td>0.007919</td>\n",
              "      <td>0.005105</td>\n",
              "      <td>0.005124</td>\n",
              "      <td>0.002491</td>\n",
              "      <td>0.007431</td>\n",
              "      <td>0.003808</td>\n",
              "      <td>0.002734</td>\n",
              "      <td>0.005392</td>\n",
              "      <td>0.011606</td>\n",
              "      <td>0.010241</td>\n",
              "      <td>0.005397</td>\n",
              "      <td>0.008777</td>\n",
              "      <td>0.002880</td>\n",
              "      <td>0.003960</td>\n",
              "      <td>0.006357</td>\n",
              "      <td>0.004876</td>\n",
              "      <td>0.004109</td>\n",
              "      <td>0.002792</td>\n",
              "      <td>0.002571</td>\n",
              "      <td>0.008151</td>\n",
              "      <td>0.009197</td>\n",
              "      <td>0.010654</td>\n",
              "      <td>0.006280</td>\n",
              "      <td>...</td>\n",
              "      <td>0.003278</td>\n",
              "      <td>0.005364</td>\n",
              "      <td>0.004842</td>\n",
              "      <td>0.009578</td>\n",
              "      <td>0.004385</td>\n",
              "      <td>0.004341</td>\n",
              "      <td>0.003585</td>\n",
              "      <td>0.004407</td>\n",
              "      <td>0.011704</td>\n",
              "      <td>0.006316</td>\n",
              "      <td>0.004465</td>\n",
              "      <td>0.005176</td>\n",
              "      <td>0.009021</td>\n",
              "      <td>0.007090</td>\n",
              "      <td>0.008082</td>\n",
              "      <td>0.004308</td>\n",
              "      <td>0.009624</td>\n",
              "      <td>0.006276</td>\n",
              "      <td>0.003433</td>\n",
              "      <td>0.008767</td>\n",
              "      <td>0.007784</td>\n",
              "      <td>0.003320</td>\n",
              "      <td>0.010892</td>\n",
              "      <td>0.014664</td>\n",
              "      <td>0.007259</td>\n",
              "      <td>0.006170</td>\n",
              "      <td>0.009965</td>\n",
              "      <td>0.006869</td>\n",
              "      <td>0.009989</td>\n",
              "      <td>0.004134</td>\n",
              "      <td>0.003722</td>\n",
              "      <td>0.004445</td>\n",
              "      <td>0.004431</td>\n",
              "      <td>0.004979</td>\n",
              "      <td>0.004692</td>\n",
              "      <td>0.003043</td>\n",
              "      <td>0.004995</td>\n",
              "      <td>0.004536</td>\n",
              "      <td>0.004284</td>\n",
              "      <td>0.005336</td>\n",
              "    </tr>\n",
              "    <tr>\n",
              "      <th>2</th>\n",
              "      <td>./test\\651</td>\n",
              "      <td>0.009521</td>\n",
              "      <td>0.007297</td>\n",
              "      <td>0.008021</td>\n",
              "      <td>0.005727</td>\n",
              "      <td>0.008025</td>\n",
              "      <td>0.011789</td>\n",
              "      <td>0.005086</td>\n",
              "      <td>0.004343</td>\n",
              "      <td>0.004036</td>\n",
              "      <td>0.006791</td>\n",
              "      <td>0.008057</td>\n",
              "      <td>0.009754</td>\n",
              "      <td>0.003003</td>\n",
              "      <td>0.009029</td>\n",
              "      <td>0.006180</td>\n",
              "      <td>0.003710</td>\n",
              "      <td>0.007846</td>\n",
              "      <td>0.005124</td>\n",
              "      <td>0.005043</td>\n",
              "      <td>0.002425</td>\n",
              "      <td>0.007502</td>\n",
              "      <td>0.003779</td>\n",
              "      <td>0.002777</td>\n",
              "      <td>0.005285</td>\n",
              "      <td>0.012145</td>\n",
              "      <td>0.010298</td>\n",
              "      <td>0.005377</td>\n",
              "      <td>0.008972</td>\n",
              "      <td>0.002825</td>\n",
              "      <td>0.003965</td>\n",
              "      <td>0.006322</td>\n",
              "      <td>0.004790</td>\n",
              "      <td>0.004328</td>\n",
              "      <td>0.002845</td>\n",
              "      <td>0.002675</td>\n",
              "      <td>0.008327</td>\n",
              "      <td>0.009200</td>\n",
              "      <td>0.010999</td>\n",
              "      <td>0.005941</td>\n",
              "      <td>...</td>\n",
              "      <td>0.003276</td>\n",
              "      <td>0.005423</td>\n",
              "      <td>0.004743</td>\n",
              "      <td>0.009463</td>\n",
              "      <td>0.004240</td>\n",
              "      <td>0.004421</td>\n",
              "      <td>0.003528</td>\n",
              "      <td>0.004423</td>\n",
              "      <td>0.011620</td>\n",
              "      <td>0.006099</td>\n",
              "      <td>0.004430</td>\n",
              "      <td>0.005046</td>\n",
              "      <td>0.009128</td>\n",
              "      <td>0.007193</td>\n",
              "      <td>0.008111</td>\n",
              "      <td>0.004322</td>\n",
              "      <td>0.009856</td>\n",
              "      <td>0.006385</td>\n",
              "      <td>0.003404</td>\n",
              "      <td>0.008435</td>\n",
              "      <td>0.008028</td>\n",
              "      <td>0.003429</td>\n",
              "      <td>0.010968</td>\n",
              "      <td>0.014708</td>\n",
              "      <td>0.007277</td>\n",
              "      <td>0.006211</td>\n",
              "      <td>0.010059</td>\n",
              "      <td>0.006937</td>\n",
              "      <td>0.010051</td>\n",
              "      <td>0.004138</td>\n",
              "      <td>0.003735</td>\n",
              "      <td>0.004333</td>\n",
              "      <td>0.004449</td>\n",
              "      <td>0.004966</td>\n",
              "      <td>0.004762</td>\n",
              "      <td>0.003014</td>\n",
              "      <td>0.004808</td>\n",
              "      <td>0.004503</td>\n",
              "      <td>0.004315</td>\n",
              "      <td>0.005134</td>\n",
              "    </tr>\n",
              "    <tr>\n",
              "      <th>3</th>\n",
              "      <td>./test\\652</td>\n",
              "      <td>0.009422</td>\n",
              "      <td>0.007603</td>\n",
              "      <td>0.008262</td>\n",
              "      <td>0.005798</td>\n",
              "      <td>0.008561</td>\n",
              "      <td>0.012067</td>\n",
              "      <td>0.005086</td>\n",
              "      <td>0.004417</td>\n",
              "      <td>0.003918</td>\n",
              "      <td>0.006853</td>\n",
              "      <td>0.008095</td>\n",
              "      <td>0.009417</td>\n",
              "      <td>0.003016</td>\n",
              "      <td>0.008847</td>\n",
              "      <td>0.006061</td>\n",
              "      <td>0.003750</td>\n",
              "      <td>0.007656</td>\n",
              "      <td>0.004991</td>\n",
              "      <td>0.005150</td>\n",
              "      <td>0.002464</td>\n",
              "      <td>0.007516</td>\n",
              "      <td>0.003697</td>\n",
              "      <td>0.002671</td>\n",
              "      <td>0.005471</td>\n",
              "      <td>0.011899</td>\n",
              "      <td>0.010645</td>\n",
              "      <td>0.005349</td>\n",
              "      <td>0.008929</td>\n",
              "      <td>0.002847</td>\n",
              "      <td>0.003993</td>\n",
              "      <td>0.006319</td>\n",
              "      <td>0.004703</td>\n",
              "      <td>0.004151</td>\n",
              "      <td>0.002923</td>\n",
              "      <td>0.002597</td>\n",
              "      <td>0.008312</td>\n",
              "      <td>0.009167</td>\n",
              "      <td>0.011084</td>\n",
              "      <td>0.006175</td>\n",
              "      <td>...</td>\n",
              "      <td>0.003350</td>\n",
              "      <td>0.005243</td>\n",
              "      <td>0.004829</td>\n",
              "      <td>0.009477</td>\n",
              "      <td>0.004321</td>\n",
              "      <td>0.004183</td>\n",
              "      <td>0.003380</td>\n",
              "      <td>0.004370</td>\n",
              "      <td>0.011460</td>\n",
              "      <td>0.006272</td>\n",
              "      <td>0.004292</td>\n",
              "      <td>0.004979</td>\n",
              "      <td>0.008991</td>\n",
              "      <td>0.007061</td>\n",
              "      <td>0.008098</td>\n",
              "      <td>0.004197</td>\n",
              "      <td>0.009939</td>\n",
              "      <td>0.006449</td>\n",
              "      <td>0.003444</td>\n",
              "      <td>0.008285</td>\n",
              "      <td>0.007770</td>\n",
              "      <td>0.003385</td>\n",
              "      <td>0.010724</td>\n",
              "      <td>0.014794</td>\n",
              "      <td>0.007265</td>\n",
              "      <td>0.006216</td>\n",
              "      <td>0.009986</td>\n",
              "      <td>0.006760</td>\n",
              "      <td>0.009922</td>\n",
              "      <td>0.004201</td>\n",
              "      <td>0.003853</td>\n",
              "      <td>0.004437</td>\n",
              "      <td>0.004267</td>\n",
              "      <td>0.005008</td>\n",
              "      <td>0.004681</td>\n",
              "      <td>0.003038</td>\n",
              "      <td>0.004830</td>\n",
              "      <td>0.004614</td>\n",
              "      <td>0.004363</td>\n",
              "      <td>0.005245</td>\n",
              "    </tr>\n",
              "    <tr>\n",
              "      <th>4</th>\n",
              "      <td>./test\\653</td>\n",
              "      <td>0.009521</td>\n",
              "      <td>0.007582</td>\n",
              "      <td>0.008219</td>\n",
              "      <td>0.005705</td>\n",
              "      <td>0.008354</td>\n",
              "      <td>0.011757</td>\n",
              "      <td>0.005101</td>\n",
              "      <td>0.004225</td>\n",
              "      <td>0.003893</td>\n",
              "      <td>0.006974</td>\n",
              "      <td>0.008242</td>\n",
              "      <td>0.009378</td>\n",
              "      <td>0.003012</td>\n",
              "      <td>0.008851</td>\n",
              "      <td>0.006039</td>\n",
              "      <td>0.003713</td>\n",
              "      <td>0.007679</td>\n",
              "      <td>0.004946</td>\n",
              "      <td>0.005184</td>\n",
              "      <td>0.002471</td>\n",
              "      <td>0.007575</td>\n",
              "      <td>0.003835</td>\n",
              "      <td>0.002701</td>\n",
              "      <td>0.005462</td>\n",
              "      <td>0.012186</td>\n",
              "      <td>0.010700</td>\n",
              "      <td>0.005259</td>\n",
              "      <td>0.009044</td>\n",
              "      <td>0.002882</td>\n",
              "      <td>0.003983</td>\n",
              "      <td>0.006225</td>\n",
              "      <td>0.004640</td>\n",
              "      <td>0.004041</td>\n",
              "      <td>0.002814</td>\n",
              "      <td>0.002614</td>\n",
              "      <td>0.008015</td>\n",
              "      <td>0.009091</td>\n",
              "      <td>0.010936</td>\n",
              "      <td>0.006082</td>\n",
              "      <td>...</td>\n",
              "      <td>0.003227</td>\n",
              "      <td>0.005395</td>\n",
              "      <td>0.004744</td>\n",
              "      <td>0.009527</td>\n",
              "      <td>0.004288</td>\n",
              "      <td>0.004165</td>\n",
              "      <td>0.003380</td>\n",
              "      <td>0.004397</td>\n",
              "      <td>0.011590</td>\n",
              "      <td>0.006328</td>\n",
              "      <td>0.004349</td>\n",
              "      <td>0.005190</td>\n",
              "      <td>0.009116</td>\n",
              "      <td>0.007144</td>\n",
              "      <td>0.008039</td>\n",
              "      <td>0.004090</td>\n",
              "      <td>0.009504</td>\n",
              "      <td>0.006429</td>\n",
              "      <td>0.003394</td>\n",
              "      <td>0.008305</td>\n",
              "      <td>0.007829</td>\n",
              "      <td>0.003408</td>\n",
              "      <td>0.011036</td>\n",
              "      <td>0.014536</td>\n",
              "      <td>0.007506</td>\n",
              "      <td>0.006246</td>\n",
              "      <td>0.010203</td>\n",
              "      <td>0.006684</td>\n",
              "      <td>0.009901</td>\n",
              "      <td>0.004200</td>\n",
              "      <td>0.003814</td>\n",
              "      <td>0.004366</td>\n",
              "      <td>0.004335</td>\n",
              "      <td>0.004986</td>\n",
              "      <td>0.004659</td>\n",
              "      <td>0.002978</td>\n",
              "      <td>0.004778</td>\n",
              "      <td>0.004552</td>\n",
              "      <td>0.004251</td>\n",
              "      <td>0.005289</td>\n",
              "    </tr>\n",
              "  </tbody>\n",
              "</table>\n",
              "<p>5 rows × 158 columns</p>\n",
              "</div>"
            ],
            "text/plain": [
              "   Image_Path   Label_0   Label_1  ...  Label_193  Label_194  Label_195\n",
              "0  ./test\\649  0.009395  0.007558  ...   0.004541   0.004331   0.005185\n",
              "1  ./test\\650  0.009383  0.007577  ...   0.004536   0.004284   0.005336\n",
              "2  ./test\\651  0.009521  0.007297  ...   0.004503   0.004315   0.005134\n",
              "3  ./test\\652  0.009422  0.007603  ...   0.004614   0.004363   0.005245\n",
              "4  ./test\\653  0.009521  0.007582  ...   0.004552   0.004251   0.005289\n",
              "\n",
              "[5 rows x 158 columns]"
            ]
          },
          "metadata": {}
        }
      ]
    },
    {
      "cell_type": "markdown",
      "metadata": {
        "id": "8sDEsK-rOo_0"
      },
      "source": [
        "#  "
      ]
    },
    {
      "cell_type": "markdown",
      "metadata": {
        "id": "uocd4u5NiCkx"
      },
      "source": [
        "#  "
      ]
    },
    {
      "cell_type": "markdown",
      "metadata": {
        "id": "9TXuC601bvVj"
      },
      "source": [
        "#  "
      ]
    },
    {
      "cell_type": "markdown",
      "metadata": {
        "id": "6M0W0T90bxSN"
      },
      "source": [
        "#  "
      ]
    },
    {
      "cell_type": "markdown",
      "metadata": {
        "id": "SB6BUuBsbwtP"
      },
      "source": [
        "#  "
      ]
    },
    {
      "cell_type": "markdown",
      "metadata": {
        "id": "6ZEEfZ4hw_ET"
      },
      "source": [
        "#  "
      ]
    },
    {
      "cell_type": "markdown",
      "metadata": {
        "id": "qivf0JIWWghg"
      },
      "source": [
        "#  "
      ]
    },
    {
      "cell_type": "markdown",
      "metadata": {
        "id": "9Bruw17HOmRt"
      },
      "source": [
        "#  "
      ]
    }
  ]
}